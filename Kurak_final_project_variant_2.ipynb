{
 "cells": [
  {
   "cell_type": "markdown",
   "metadata": {},
   "source": [
    "# Проект: вариант 2"
   ]
  },
  {
   "cell_type": "markdown",
   "metadata": {},
   "source": [
    "## Задание 1. A/B–тестирование"
   ]
  },
  {
   "cell_type": "markdown",
   "metadata": {},
   "source": [
    "1.1 Условие\n",
    "\n",
    "Одной из основных задач аналитика в нашей команде является корректное проведение экспериментов. Для этого мы применяем метод A/B–тестирования. В ходе тестирования одной гипотезы целевой группе была предложена новая механика оплаты услуг на сайте, у контрольной группы оставалась базовая механика. В качестве задания Вам необходимо проанализировать итоги эксперимента и сделать вывод, стоит ли запускать новую механику оплаты на всех пользователей.\n",
    "\n",
    "1.2 Входные данные\n",
    "\n",
    "В качестве входных данных Вы имеете 4 csv-файла:\n",
    "\n",
    "groups.csv - файл с информацией о принадлежности пользователя к контрольной или экспериментальной группе (А – контроль, B – целевая группа) \n",
    "\n",
    "groups_add.csv - дополнительный файл с пользователями, который вам прислали спустя 2 дня после передачи данных\n",
    "\n",
    "active_studs.csv - файл с информацией о пользователях, которые зашли на платформу в дни проведения эксперимента. \n",
    "\n",
    "checks.csv - файл с информацией об оплатах пользователей в дни проведения эксперимента. \n",
    "\n",
    "1.3 Вопросы\n",
    "\n",
    "Предлагаем Вам ответить на следующие вопросы:\n",
    "\n",
    "На какие метрики Вы смотрите в ходе анализа и почему?\n",
    "Имеются ли различия в показателях и с чем они могут быть связаны?\n",
    "Являются ли эти различия статистически значимыми?\n",
    "Стоит ли запускать новую механику на всех пользователей?\n",
    "Данный список вопросов не является обязательным, и Вы можете при своём ответе опираться на собственный план.\n",
    "\n",
    "1.4 Требования к ответу\n",
    "\n",
    "При выполнении тестового задания необходимо использовать язык программирования Python. \n",
    "В файле обязательно должны быть комментарии к тем действиям, которые Вы выполняете с данными. \n",
    "Файл должен представлять собой законченный отчёт с выводами, сделанными в ходе исследования."
   ]
  },
  {
   "cell_type": "code",
   "execution_count": 1,
   "metadata": {},
   "outputs": [],
   "source": [
    "import pandas as pd\n",
    "import seaborn as sns\n",
    "import matplotlib.pyplot as plt\n",
    "%matplotlib inline\n",
    "import plotly.express as px\n",
    "import datetime\n",
    "from scipy import stats \n",
    "import numpy as np\n",
    "import scipy.stats as ss\n",
    "from scipy.stats import norm\n",
    "import pingouin as pg\n",
    "from tqdm.auto import tqdm\n",
    "plt.style.use('ggplot')\n",
    "import pandahouse as ph"
   ]
  },
  {
   "cell_type": "markdown",
   "metadata": {},
   "source": [
    "#### Загружаю данные через ссылки на файлы на Яндекс.Диске:"
   ]
  },
  {
   "cell_type": "code",
   "execution_count": 67,
   "metadata": {},
   "outputs": [],
   "source": [
    "import requests \n",
    "from urllib.parse import urlencode \n",
    "base_url = 'https://cloud-api.yandex.net/v1/disk/public/resources/download?' \n",
    "public_key = 'https://disk.yandex.ru/d/UhyYx41rTt3clQ' \n",
    " \n",
    "final_url = base_url + urlencode(dict(public_key=public_key)) \n",
    "response = requests.get(final_url) \n",
    "download_url = response.json()['href'] \n",
    " \n",
    "download_response = requests.get(download_url) \n",
    "groups = pd.read_csv(download_url, sep=';') "
   ]
  },
  {
   "cell_type": "code",
   "execution_count": 3,
   "metadata": {},
   "outputs": [],
   "source": [
    "import requests \n",
    "from urllib.parse import urlencode \n",
    "base_url = 'https://cloud-api.yandex.net/v1/disk/public/resources/download?' \n",
    "public_key = 'https://disk.yandex.ru/d/5Kxrz02m3IBUwQ' \n",
    " \n",
    "final_url = base_url + urlencode(dict(public_key=public_key)) \n",
    "response = requests.get(final_url) \n",
    "download_url = response.json()['href'] \n",
    " \n",
    "download_response = requests.get(download_url) \n",
    "groups_add = pd.read_csv(download_url, sep=',') "
   ]
  },
  {
   "cell_type": "code",
   "execution_count": 4,
   "metadata": {},
   "outputs": [],
   "source": [
    "import requests \n",
    "from urllib.parse import urlencode \n",
    "base_url = 'https://cloud-api.yandex.net/v1/disk/public/resources/download?' \n",
    "public_key = 'https://disk.yandex.ru/d/Tbs44Bm6H_FwFQ' \n",
    " \n",
    "final_url = base_url + urlencode(dict(public_key=public_key)) \n",
    "response = requests.get(final_url) \n",
    "download_url = response.json()['href'] \n",
    " \n",
    "download_response = requests.get(download_url) \n",
    "active_studs = pd.read_csv(download_url, sep=';') "
   ]
  },
  {
   "cell_type": "code",
   "execution_count": 5,
   "metadata": {},
   "outputs": [],
   "source": [
    "import requests \n",
    "from urllib.parse import urlencode \n",
    "base_url = 'https://cloud-api.yandex.net/v1/disk/public/resources/download?' \n",
    "public_key = 'https://disk.yandex.ru/d/pH1q-VqcxXjsVA' \n",
    " \n",
    "final_url = base_url + urlencode(dict(public_key=public_key)) \n",
    "response = requests.get(final_url) \n",
    "download_url = response.json()['href'] \n",
    " \n",
    "download_response = requests.get(download_url) \n",
    "checks = pd.read_csv(download_url, sep=';') "
   ]
  },
  {
   "cell_type": "markdown",
   "metadata": {},
   "source": [
    "Вспомогательный способ загрузки данных, когда ссылки на файлы на Яндекс.Диске не работают:"
   ]
  },
  {
   "cell_type": "code",
   "execution_count": 6,
   "metadata": {},
   "outputs": [],
   "source": [
    "# groups = pd.read_csv('/mnt/HC_Volume_18315164/home-jupyter/jupyter-pa-kurak/Проект_2_groups.csv', sep=';') \n",
    "# groups_add = pd.read_csv('/mnt/HC_Volume_18315164/home-jupyter/jupyter-pa-kurak/Проект_2_group_add.csv', sep=',') \n",
    "# active_studs = pd.read_csv('/mnt/HC_Volume_18315164/home-jupyter/jupyter-pa-kurak/Проект_2_active_studs.csv', sep=';') \n",
    "# checks = pd.read_csv('/mnt/HC_Volume_18315164/home-jupyter/jupyter-pa-kurak/Проект_2_checks.csv', sep=';') "
   ]
  },
  {
   "cell_type": "markdown",
   "metadata": {},
   "source": [
    "#### Проведу предварительный анализ данных, в т.ч. проверю на пропущенные значения и дубликаты:"
   ]
  },
  {
   "cell_type": "code",
   "execution_count": 7,
   "metadata": {},
   "outputs": [
    {
     "data": {
      "text/html": [
       "<div>\n",
       "<style scoped>\n",
       "    .dataframe tbody tr th:only-of-type {\n",
       "        vertical-align: middle;\n",
       "    }\n",
       "\n",
       "    .dataframe tbody tr th {\n",
       "        vertical-align: top;\n",
       "    }\n",
       "\n",
       "    .dataframe thead th {\n",
       "        text-align: right;\n",
       "    }\n",
       "</style>\n",
       "<table border=\"1\" class=\"dataframe\">\n",
       "  <thead>\n",
       "    <tr style=\"text-align: right;\">\n",
       "      <th></th>\n",
       "      <th>id</th>\n",
       "      <th>grp</th>\n",
       "    </tr>\n",
       "  </thead>\n",
       "  <tbody>\n",
       "    <tr>\n",
       "      <th>0</th>\n",
       "      <td>1489</td>\n",
       "      <td>B</td>\n",
       "    </tr>\n",
       "    <tr>\n",
       "      <th>1</th>\n",
       "      <td>1627</td>\n",
       "      <td>A</td>\n",
       "    </tr>\n",
       "    <tr>\n",
       "      <th>2</th>\n",
       "      <td>1768</td>\n",
       "      <td>B</td>\n",
       "    </tr>\n",
       "    <tr>\n",
       "      <th>3</th>\n",
       "      <td>1783</td>\n",
       "      <td>B</td>\n",
       "    </tr>\n",
       "    <tr>\n",
       "      <th>4</th>\n",
       "      <td>1794</td>\n",
       "      <td>A</td>\n",
       "    </tr>\n",
       "    <tr>\n",
       "      <th>...</th>\n",
       "      <td>...</td>\n",
       "      <td>...</td>\n",
       "    </tr>\n",
       "    <tr>\n",
       "      <th>74479</th>\n",
       "      <td>5692459</td>\n",
       "      <td>B</td>\n",
       "    </tr>\n",
       "    <tr>\n",
       "      <th>74480</th>\n",
       "      <td>5692572</td>\n",
       "      <td>B</td>\n",
       "    </tr>\n",
       "    <tr>\n",
       "      <th>74481</th>\n",
       "      <td>5692865</td>\n",
       "      <td>B</td>\n",
       "    </tr>\n",
       "    <tr>\n",
       "      <th>74482</th>\n",
       "      <td>5693667</td>\n",
       "      <td>B</td>\n",
       "    </tr>\n",
       "    <tr>\n",
       "      <th>74483</th>\n",
       "      <td>5694419</td>\n",
       "      <td>B</td>\n",
       "    </tr>\n",
       "  </tbody>\n",
       "</table>\n",
       "<p>74484 rows × 2 columns</p>\n",
       "</div>"
      ],
      "text/plain": [
       "            id grp\n",
       "0         1489   B\n",
       "1         1627   A\n",
       "2         1768   B\n",
       "3         1783   B\n",
       "4         1794   A\n",
       "...        ...  ..\n",
       "74479  5692459   B\n",
       "74480  5692572   B\n",
       "74481  5692865   B\n",
       "74482  5693667   B\n",
       "74483  5694419   B\n",
       "\n",
       "[74484 rows x 2 columns]"
      ]
     },
     "execution_count": 7,
     "metadata": {},
     "output_type": "execute_result"
    }
   ],
   "source": [
    "groups"
   ]
  },
  {
   "cell_type": "code",
   "execution_count": 8,
   "metadata": {},
   "outputs": [
    {
     "data": {
      "text/plain": [
       "id     0\n",
       "grp    0\n",
       "dtype: int64"
      ]
     },
     "execution_count": 8,
     "metadata": {},
     "output_type": "execute_result"
    }
   ],
   "source": [
    "groups.isna().sum()"
   ]
  },
  {
   "cell_type": "code",
   "execution_count": 9,
   "metadata": {},
   "outputs": [
    {
     "data": {
      "text/plain": [
       "0"
      ]
     },
     "execution_count": 9,
     "metadata": {},
     "output_type": "execute_result"
    }
   ],
   "source": [
    "groups.duplicated(subset=['id']).sum()"
   ]
  },
  {
   "cell_type": "code",
   "execution_count": 10,
   "metadata": {},
   "outputs": [
    {
     "data": {
      "text/html": [
       "<div>\n",
       "<style scoped>\n",
       "    .dataframe tbody tr th:only-of-type {\n",
       "        vertical-align: middle;\n",
       "    }\n",
       "\n",
       "    .dataframe tbody tr th {\n",
       "        vertical-align: top;\n",
       "    }\n",
       "\n",
       "    .dataframe thead th {\n",
       "        text-align: right;\n",
       "    }\n",
       "</style>\n",
       "<table border=\"1\" class=\"dataframe\">\n",
       "  <thead>\n",
       "    <tr style=\"text-align: right;\">\n",
       "      <th></th>\n",
       "      <th>id</th>\n",
       "      <th>grp</th>\n",
       "    </tr>\n",
       "  </thead>\n",
       "  <tbody>\n",
       "    <tr>\n",
       "      <th>0</th>\n",
       "      <td>5694584</td>\n",
       "      <td>B</td>\n",
       "    </tr>\n",
       "    <tr>\n",
       "      <th>1</th>\n",
       "      <td>5694830</td>\n",
       "      <td>B</td>\n",
       "    </tr>\n",
       "    <tr>\n",
       "      <th>2</th>\n",
       "      <td>5695057</td>\n",
       "      <td>B</td>\n",
       "    </tr>\n",
       "    <tr>\n",
       "      <th>3</th>\n",
       "      <td>5698872</td>\n",
       "      <td>B</td>\n",
       "    </tr>\n",
       "    <tr>\n",
       "      <th>4</th>\n",
       "      <td>5699067</td>\n",
       "      <td>B</td>\n",
       "    </tr>\n",
       "    <tr>\n",
       "      <th>...</th>\n",
       "      <td>...</td>\n",
       "      <td>...</td>\n",
       "    </tr>\n",
       "    <tr>\n",
       "      <th>87</th>\n",
       "      <td>200247820</td>\n",
       "      <td>B</td>\n",
       "    </tr>\n",
       "    <tr>\n",
       "      <th>88</th>\n",
       "      <td>201032527</td>\n",
       "      <td>B</td>\n",
       "    </tr>\n",
       "    <tr>\n",
       "      <th>89</th>\n",
       "      <td>201067612</td>\n",
       "      <td>B</td>\n",
       "    </tr>\n",
       "    <tr>\n",
       "      <th>90</th>\n",
       "      <td>201067653</td>\n",
       "      <td>B</td>\n",
       "    </tr>\n",
       "    <tr>\n",
       "      <th>91</th>\n",
       "      <td>201067659</td>\n",
       "      <td>B</td>\n",
       "    </tr>\n",
       "  </tbody>\n",
       "</table>\n",
       "<p>92 rows × 2 columns</p>\n",
       "</div>"
      ],
      "text/plain": [
       "           id grp\n",
       "0     5694584   B\n",
       "1     5694830   B\n",
       "2     5695057   B\n",
       "3     5698872   B\n",
       "4     5699067   B\n",
       "..        ...  ..\n",
       "87  200247820   B\n",
       "88  201032527   B\n",
       "89  201067612   B\n",
       "90  201067653   B\n",
       "91  201067659   B\n",
       "\n",
       "[92 rows x 2 columns]"
      ]
     },
     "execution_count": 10,
     "metadata": {},
     "output_type": "execute_result"
    }
   ],
   "source": [
    "groups_add"
   ]
  },
  {
   "cell_type": "code",
   "execution_count": 11,
   "metadata": {},
   "outputs": [
    {
     "data": {
      "text/plain": [
       "id     0\n",
       "grp    0\n",
       "dtype: int64"
      ]
     },
     "execution_count": 11,
     "metadata": {},
     "output_type": "execute_result"
    }
   ],
   "source": [
    "groups_add.isna().sum()"
   ]
  },
  {
   "cell_type": "code",
   "execution_count": 12,
   "metadata": {},
   "outputs": [
    {
     "data": {
      "text/plain": [
       "0"
      ]
     },
     "execution_count": 12,
     "metadata": {},
     "output_type": "execute_result"
    }
   ],
   "source": [
    "groups_add.duplicated(subset=['id']).sum()"
   ]
  },
  {
   "cell_type": "code",
   "execution_count": 13,
   "metadata": {},
   "outputs": [
    {
     "data": {
      "text/html": [
       "<div>\n",
       "<style scoped>\n",
       "    .dataframe tbody tr th:only-of-type {\n",
       "        vertical-align: middle;\n",
       "    }\n",
       "\n",
       "    .dataframe tbody tr th {\n",
       "        vertical-align: top;\n",
       "    }\n",
       "\n",
       "    .dataframe thead th {\n",
       "        text-align: right;\n",
       "    }\n",
       "</style>\n",
       "<table border=\"1\" class=\"dataframe\">\n",
       "  <thead>\n",
       "    <tr style=\"text-align: right;\">\n",
       "      <th></th>\n",
       "      <th>student_id</th>\n",
       "    </tr>\n",
       "  </thead>\n",
       "  <tbody>\n",
       "    <tr>\n",
       "      <th>0</th>\n",
       "      <td>581585</td>\n",
       "    </tr>\n",
       "    <tr>\n",
       "      <th>1</th>\n",
       "      <td>5723133</td>\n",
       "    </tr>\n",
       "    <tr>\n",
       "      <th>2</th>\n",
       "      <td>3276743</td>\n",
       "    </tr>\n",
       "    <tr>\n",
       "      <th>3</th>\n",
       "      <td>4238589</td>\n",
       "    </tr>\n",
       "    <tr>\n",
       "      <th>4</th>\n",
       "      <td>4475369</td>\n",
       "    </tr>\n",
       "    <tr>\n",
       "      <th>...</th>\n",
       "      <td>...</td>\n",
       "    </tr>\n",
       "    <tr>\n",
       "      <th>8336</th>\n",
       "      <td>1794344</td>\n",
       "    </tr>\n",
       "    <tr>\n",
       "      <th>8337</th>\n",
       "      <td>296883</td>\n",
       "    </tr>\n",
       "    <tr>\n",
       "      <th>8338</th>\n",
       "      <td>3598448</td>\n",
       "    </tr>\n",
       "    <tr>\n",
       "      <th>8339</th>\n",
       "      <td>3610547</td>\n",
       "    </tr>\n",
       "    <tr>\n",
       "      <th>8340</th>\n",
       "      <td>205705</td>\n",
       "    </tr>\n",
       "  </tbody>\n",
       "</table>\n",
       "<p>8341 rows × 1 columns</p>\n",
       "</div>"
      ],
      "text/plain": [
       "      student_id\n",
       "0         581585\n",
       "1        5723133\n",
       "2        3276743\n",
       "3        4238589\n",
       "4        4475369\n",
       "...          ...\n",
       "8336     1794344\n",
       "8337      296883\n",
       "8338     3598448\n",
       "8339     3610547\n",
       "8340      205705\n",
       "\n",
       "[8341 rows x 1 columns]"
      ]
     },
     "execution_count": 13,
     "metadata": {},
     "output_type": "execute_result"
    }
   ],
   "source": [
    "active_studs"
   ]
  },
  {
   "cell_type": "code",
   "execution_count": 14,
   "metadata": {},
   "outputs": [
    {
     "data": {
      "text/plain": [
       "student_id    0\n",
       "dtype: int64"
      ]
     },
     "execution_count": 14,
     "metadata": {},
     "output_type": "execute_result"
    }
   ],
   "source": [
    "active_studs.isna().sum()"
   ]
  },
  {
   "cell_type": "code",
   "execution_count": 15,
   "metadata": {},
   "outputs": [
    {
     "data": {
      "text/plain": [
       "0"
      ]
     },
     "execution_count": 15,
     "metadata": {},
     "output_type": "execute_result"
    }
   ],
   "source": [
    "active_studs.duplicated(subset=['student_id']).sum()"
   ]
  },
  {
   "cell_type": "code",
   "execution_count": 16,
   "metadata": {},
   "outputs": [
    {
     "data": {
      "text/html": [
       "<div>\n",
       "<style scoped>\n",
       "    .dataframe tbody tr th:only-of-type {\n",
       "        vertical-align: middle;\n",
       "    }\n",
       "\n",
       "    .dataframe tbody tr th {\n",
       "        vertical-align: top;\n",
       "    }\n",
       "\n",
       "    .dataframe thead th {\n",
       "        text-align: right;\n",
       "    }\n",
       "</style>\n",
       "<table border=\"1\" class=\"dataframe\">\n",
       "  <thead>\n",
       "    <tr style=\"text-align: right;\">\n",
       "      <th></th>\n",
       "      <th>student_id</th>\n",
       "      <th>rev</th>\n",
       "    </tr>\n",
       "  </thead>\n",
       "  <tbody>\n",
       "    <tr>\n",
       "      <th>0</th>\n",
       "      <td>1627</td>\n",
       "      <td>990.0</td>\n",
       "    </tr>\n",
       "    <tr>\n",
       "      <th>1</th>\n",
       "      <td>3185</td>\n",
       "      <td>690.0</td>\n",
       "    </tr>\n",
       "    <tr>\n",
       "      <th>2</th>\n",
       "      <td>25973</td>\n",
       "      <td>690.0</td>\n",
       "    </tr>\n",
       "    <tr>\n",
       "      <th>3</th>\n",
       "      <td>26280</td>\n",
       "      <td>690.0</td>\n",
       "    </tr>\n",
       "    <tr>\n",
       "      <th>4</th>\n",
       "      <td>100300</td>\n",
       "      <td>990.0</td>\n",
       "    </tr>\n",
       "    <tr>\n",
       "      <th>...</th>\n",
       "      <td>...</td>\n",
       "      <td>...</td>\n",
       "    </tr>\n",
       "    <tr>\n",
       "      <th>536</th>\n",
       "      <td>5645737</td>\n",
       "      <td>1900.0</td>\n",
       "    </tr>\n",
       "    <tr>\n",
       "      <th>537</th>\n",
       "      <td>5651566</td>\n",
       "      <td>1900.0</td>\n",
       "    </tr>\n",
       "    <tr>\n",
       "      <th>538</th>\n",
       "      <td>5662322</td>\n",
       "      <td>1900.0</td>\n",
       "    </tr>\n",
       "    <tr>\n",
       "      <th>539</th>\n",
       "      <td>5681918</td>\n",
       "      <td>1900.0</td>\n",
       "    </tr>\n",
       "    <tr>\n",
       "      <th>540</th>\n",
       "      <td>5740903</td>\n",
       "      <td>1900.0</td>\n",
       "    </tr>\n",
       "  </tbody>\n",
       "</table>\n",
       "<p>541 rows × 2 columns</p>\n",
       "</div>"
      ],
      "text/plain": [
       "     student_id     rev\n",
       "0          1627   990.0\n",
       "1          3185   690.0\n",
       "2         25973   690.0\n",
       "3         26280   690.0\n",
       "4        100300   990.0\n",
       "..          ...     ...\n",
       "536     5645737  1900.0\n",
       "537     5651566  1900.0\n",
       "538     5662322  1900.0\n",
       "539     5681918  1900.0\n",
       "540     5740903  1900.0\n",
       "\n",
       "[541 rows x 2 columns]"
      ]
     },
     "execution_count": 16,
     "metadata": {},
     "output_type": "execute_result"
    }
   ],
   "source": [
    "checks"
   ]
  },
  {
   "cell_type": "code",
   "execution_count": 17,
   "metadata": {},
   "outputs": [
    {
     "data": {
      "text/plain": [
       "student_id    0\n",
       "rev           0\n",
       "dtype: int64"
      ]
     },
     "execution_count": 17,
     "metadata": {},
     "output_type": "execute_result"
    }
   ],
   "source": [
    "checks.isna().sum()"
   ]
  },
  {
   "cell_type": "code",
   "execution_count": 18,
   "metadata": {},
   "outputs": [
    {
     "data": {
      "text/plain": [
       "0"
      ]
     },
     "execution_count": 18,
     "metadata": {},
     "output_type": "execute_result"
    }
   ],
   "source": [
    "checks.duplicated(subset=['student_id']).sum()"
   ]
  },
  {
   "cell_type": "markdown",
   "metadata": {},
   "source": [
    "#### По результатам проверки видно, что в данных нет дубликатов или пропущенных значений.\n",
    "\n",
    "Объединяю данные (изначальные и дополнительные) о принадлежности пользователя к контрольной или экспериментальной группе:"
   ]
  },
  {
   "cell_type": "code",
   "execution_count": 19,
   "metadata": {},
   "outputs": [
    {
     "data": {
      "text/html": [
       "<div>\n",
       "<style scoped>\n",
       "    .dataframe tbody tr th:only-of-type {\n",
       "        vertical-align: middle;\n",
       "    }\n",
       "\n",
       "    .dataframe tbody tr th {\n",
       "        vertical-align: top;\n",
       "    }\n",
       "\n",
       "    .dataframe thead th {\n",
       "        text-align: right;\n",
       "    }\n",
       "</style>\n",
       "<table border=\"1\" class=\"dataframe\">\n",
       "  <thead>\n",
       "    <tr style=\"text-align: right;\">\n",
       "      <th></th>\n",
       "      <th>student_id</th>\n",
       "      <th>grp</th>\n",
       "    </tr>\n",
       "  </thead>\n",
       "  <tbody>\n",
       "    <tr>\n",
       "      <th>0</th>\n",
       "      <td>1489</td>\n",
       "      <td>B</td>\n",
       "    </tr>\n",
       "    <tr>\n",
       "      <th>1</th>\n",
       "      <td>1627</td>\n",
       "      <td>A</td>\n",
       "    </tr>\n",
       "    <tr>\n",
       "      <th>2</th>\n",
       "      <td>1768</td>\n",
       "      <td>B</td>\n",
       "    </tr>\n",
       "    <tr>\n",
       "      <th>3</th>\n",
       "      <td>1783</td>\n",
       "      <td>B</td>\n",
       "    </tr>\n",
       "    <tr>\n",
       "      <th>4</th>\n",
       "      <td>1794</td>\n",
       "      <td>A</td>\n",
       "    </tr>\n",
       "    <tr>\n",
       "      <th>...</th>\n",
       "      <td>...</td>\n",
       "      <td>...</td>\n",
       "    </tr>\n",
       "    <tr>\n",
       "      <th>87</th>\n",
       "      <td>200247820</td>\n",
       "      <td>B</td>\n",
       "    </tr>\n",
       "    <tr>\n",
       "      <th>88</th>\n",
       "      <td>201032527</td>\n",
       "      <td>B</td>\n",
       "    </tr>\n",
       "    <tr>\n",
       "      <th>89</th>\n",
       "      <td>201067612</td>\n",
       "      <td>B</td>\n",
       "    </tr>\n",
       "    <tr>\n",
       "      <th>90</th>\n",
       "      <td>201067653</td>\n",
       "      <td>B</td>\n",
       "    </tr>\n",
       "    <tr>\n",
       "      <th>91</th>\n",
       "      <td>201067659</td>\n",
       "      <td>B</td>\n",
       "    </tr>\n",
       "  </tbody>\n",
       "</table>\n",
       "<p>74576 rows × 2 columns</p>\n",
       "</div>"
      ],
      "text/plain": [
       "    student_id grp\n",
       "0         1489   B\n",
       "1         1627   A\n",
       "2         1768   B\n",
       "3         1783   B\n",
       "4         1794   A\n",
       "..         ...  ..\n",
       "87   200247820   B\n",
       "88   201032527   B\n",
       "89   201067612   B\n",
       "90   201067653   B\n",
       "91   201067659   B\n",
       "\n",
       "[74576 rows x 2 columns]"
      ]
     },
     "execution_count": 19,
     "metadata": {},
     "output_type": "execute_result"
    }
   ],
   "source": [
    "groups_all = groups.append(groups_add, sort=False) \\\n",
    "                   .rename(columns={'id' : 'student_id'})\n",
    "groups_all"
   ]
  },
  {
   "cell_type": "markdown",
   "metadata": {},
   "source": [
    "Проверяю, корректность работы сплит-системы, а именно нет ли пользователей, которые попали в обе группы сразу:  "
   ]
  },
  {
   "cell_type": "code",
   "execution_count": 20,
   "metadata": {},
   "outputs": [
    {
     "data": {
      "text/plain": [
       "0"
      ]
     },
     "execution_count": 20,
     "metadata": {},
     "output_type": "execute_result"
    }
   ],
   "source": [
    "groups_all.duplicated(subset=['student_id']).sum()"
   ]
  },
  {
   "cell_type": "markdown",
   "metadata": {},
   "source": [
    "Добавляю метки \"1\", обозначающие посещение сайта (activity) и совершение покупки (payment), для удобства при последующих объединениях данных:"
   ]
  },
  {
   "cell_type": "code",
   "execution_count": 21,
   "metadata": {},
   "outputs": [
    {
     "data": {
      "text/html": [
       "<div>\n",
       "<style scoped>\n",
       "    .dataframe tbody tr th:only-of-type {\n",
       "        vertical-align: middle;\n",
       "    }\n",
       "\n",
       "    .dataframe tbody tr th {\n",
       "        vertical-align: top;\n",
       "    }\n",
       "\n",
       "    .dataframe thead th {\n",
       "        text-align: right;\n",
       "    }\n",
       "</style>\n",
       "<table border=\"1\" class=\"dataframe\">\n",
       "  <thead>\n",
       "    <tr style=\"text-align: right;\">\n",
       "      <th></th>\n",
       "      <th>student_id</th>\n",
       "      <th>activity</th>\n",
       "    </tr>\n",
       "  </thead>\n",
       "  <tbody>\n",
       "    <tr>\n",
       "      <th>0</th>\n",
       "      <td>581585</td>\n",
       "      <td>1</td>\n",
       "    </tr>\n",
       "    <tr>\n",
       "      <th>1</th>\n",
       "      <td>5723133</td>\n",
       "      <td>1</td>\n",
       "    </tr>\n",
       "    <tr>\n",
       "      <th>2</th>\n",
       "      <td>3276743</td>\n",
       "      <td>1</td>\n",
       "    </tr>\n",
       "    <tr>\n",
       "      <th>3</th>\n",
       "      <td>4238589</td>\n",
       "      <td>1</td>\n",
       "    </tr>\n",
       "    <tr>\n",
       "      <th>4</th>\n",
       "      <td>4475369</td>\n",
       "      <td>1</td>\n",
       "    </tr>\n",
       "    <tr>\n",
       "      <th>...</th>\n",
       "      <td>...</td>\n",
       "      <td>...</td>\n",
       "    </tr>\n",
       "    <tr>\n",
       "      <th>8336</th>\n",
       "      <td>1794344</td>\n",
       "      <td>1</td>\n",
       "    </tr>\n",
       "    <tr>\n",
       "      <th>8337</th>\n",
       "      <td>296883</td>\n",
       "      <td>1</td>\n",
       "    </tr>\n",
       "    <tr>\n",
       "      <th>8338</th>\n",
       "      <td>3598448</td>\n",
       "      <td>1</td>\n",
       "    </tr>\n",
       "    <tr>\n",
       "      <th>8339</th>\n",
       "      <td>3610547</td>\n",
       "      <td>1</td>\n",
       "    </tr>\n",
       "    <tr>\n",
       "      <th>8340</th>\n",
       "      <td>205705</td>\n",
       "      <td>1</td>\n",
       "    </tr>\n",
       "  </tbody>\n",
       "</table>\n",
       "<p>8341 rows × 2 columns</p>\n",
       "</div>"
      ],
      "text/plain": [
       "      student_id  activity\n",
       "0         581585         1\n",
       "1        5723133         1\n",
       "2        3276743         1\n",
       "3        4238589         1\n",
       "4        4475369         1\n",
       "...          ...       ...\n",
       "8336     1794344         1\n",
       "8337      296883         1\n",
       "8338     3598448         1\n",
       "8339     3610547         1\n",
       "8340      205705         1\n",
       "\n",
       "[8341 rows x 2 columns]"
      ]
     },
     "execution_count": 21,
     "metadata": {},
     "output_type": "execute_result"
    }
   ],
   "source": [
    "active_studs['activity'] = 1\n",
    "active_studs"
   ]
  },
  {
   "cell_type": "code",
   "execution_count": 22,
   "metadata": {
    "scrolled": true
   },
   "outputs": [
    {
     "data": {
      "text/html": [
       "<div>\n",
       "<style scoped>\n",
       "    .dataframe tbody tr th:only-of-type {\n",
       "        vertical-align: middle;\n",
       "    }\n",
       "\n",
       "    .dataframe tbody tr th {\n",
       "        vertical-align: top;\n",
       "    }\n",
       "\n",
       "    .dataframe thead th {\n",
       "        text-align: right;\n",
       "    }\n",
       "</style>\n",
       "<table border=\"1\" class=\"dataframe\">\n",
       "  <thead>\n",
       "    <tr style=\"text-align: right;\">\n",
       "      <th></th>\n",
       "      <th>student_id</th>\n",
       "      <th>rev</th>\n",
       "      <th>payment</th>\n",
       "    </tr>\n",
       "  </thead>\n",
       "  <tbody>\n",
       "    <tr>\n",
       "      <th>0</th>\n",
       "      <td>1627</td>\n",
       "      <td>990.0</td>\n",
       "      <td>1</td>\n",
       "    </tr>\n",
       "    <tr>\n",
       "      <th>1</th>\n",
       "      <td>3185</td>\n",
       "      <td>690.0</td>\n",
       "      <td>1</td>\n",
       "    </tr>\n",
       "    <tr>\n",
       "      <th>2</th>\n",
       "      <td>25973</td>\n",
       "      <td>690.0</td>\n",
       "      <td>1</td>\n",
       "    </tr>\n",
       "    <tr>\n",
       "      <th>3</th>\n",
       "      <td>26280</td>\n",
       "      <td>690.0</td>\n",
       "      <td>1</td>\n",
       "    </tr>\n",
       "    <tr>\n",
       "      <th>4</th>\n",
       "      <td>100300</td>\n",
       "      <td>990.0</td>\n",
       "      <td>1</td>\n",
       "    </tr>\n",
       "    <tr>\n",
       "      <th>...</th>\n",
       "      <td>...</td>\n",
       "      <td>...</td>\n",
       "      <td>...</td>\n",
       "    </tr>\n",
       "    <tr>\n",
       "      <th>536</th>\n",
       "      <td>5645737</td>\n",
       "      <td>1900.0</td>\n",
       "      <td>1</td>\n",
       "    </tr>\n",
       "    <tr>\n",
       "      <th>537</th>\n",
       "      <td>5651566</td>\n",
       "      <td>1900.0</td>\n",
       "      <td>1</td>\n",
       "    </tr>\n",
       "    <tr>\n",
       "      <th>538</th>\n",
       "      <td>5662322</td>\n",
       "      <td>1900.0</td>\n",
       "      <td>1</td>\n",
       "    </tr>\n",
       "    <tr>\n",
       "      <th>539</th>\n",
       "      <td>5681918</td>\n",
       "      <td>1900.0</td>\n",
       "      <td>1</td>\n",
       "    </tr>\n",
       "    <tr>\n",
       "      <th>540</th>\n",
       "      <td>5740903</td>\n",
       "      <td>1900.0</td>\n",
       "      <td>1</td>\n",
       "    </tr>\n",
       "  </tbody>\n",
       "</table>\n",
       "<p>541 rows × 3 columns</p>\n",
       "</div>"
      ],
      "text/plain": [
       "     student_id     rev  payment\n",
       "0          1627   990.0        1\n",
       "1          3185   690.0        1\n",
       "2         25973   690.0        1\n",
       "3         26280   690.0        1\n",
       "4        100300   990.0        1\n",
       "..          ...     ...      ...\n",
       "536     5645737  1900.0        1\n",
       "537     5651566  1900.0        1\n",
       "538     5662322  1900.0        1\n",
       "539     5681918  1900.0        1\n",
       "540     5740903  1900.0        1\n",
       "\n",
       "[541 rows x 3 columns]"
      ]
     },
     "execution_count": 22,
     "metadata": {},
     "output_type": "execute_result"
    }
   ],
   "source": [
    "checks['payment'] = 1\n",
    "checks"
   ]
  },
  {
   "cell_type": "markdown",
   "metadata": {},
   "source": [
    "Объединяю данные о принадлежности пользователя к контрольной или экспериментальной группе пользователей с данными о пользователях, которые зашли на платформу в дни проведения эксперимента:"
   ]
  },
  {
   "cell_type": "code",
   "execution_count": 23,
   "metadata": {},
   "outputs": [
    {
     "data": {
      "text/html": [
       "<div>\n",
       "<style scoped>\n",
       "    .dataframe tbody tr th:only-of-type {\n",
       "        vertical-align: middle;\n",
       "    }\n",
       "\n",
       "    .dataframe tbody tr th {\n",
       "        vertical-align: top;\n",
       "    }\n",
       "\n",
       "    .dataframe thead th {\n",
       "        text-align: right;\n",
       "    }\n",
       "</style>\n",
       "<table border=\"1\" class=\"dataframe\">\n",
       "  <thead>\n",
       "    <tr style=\"text-align: right;\">\n",
       "      <th></th>\n",
       "      <th>student_id</th>\n",
       "      <th>grp</th>\n",
       "      <th>activity</th>\n",
       "    </tr>\n",
       "  </thead>\n",
       "  <tbody>\n",
       "    <tr>\n",
       "      <th>0</th>\n",
       "      <td>1627</td>\n",
       "      <td>A</td>\n",
       "      <td>1</td>\n",
       "    </tr>\n",
       "    <tr>\n",
       "      <th>1</th>\n",
       "      <td>2085</td>\n",
       "      <td>B</td>\n",
       "      <td>1</td>\n",
       "    </tr>\n",
       "    <tr>\n",
       "      <th>2</th>\n",
       "      <td>2215</td>\n",
       "      <td>B</td>\n",
       "      <td>1</td>\n",
       "    </tr>\n",
       "    <tr>\n",
       "      <th>3</th>\n",
       "      <td>3391</td>\n",
       "      <td>A</td>\n",
       "      <td>1</td>\n",
       "    </tr>\n",
       "    <tr>\n",
       "      <th>4</th>\n",
       "      <td>3401</td>\n",
       "      <td>B</td>\n",
       "      <td>1</td>\n",
       "    </tr>\n",
       "    <tr>\n",
       "      <th>...</th>\n",
       "      <td>...</td>\n",
       "      <td>...</td>\n",
       "      <td>...</td>\n",
       "    </tr>\n",
       "    <tr>\n",
       "      <th>8336</th>\n",
       "      <td>5760471</td>\n",
       "      <td>B</td>\n",
       "      <td>1</td>\n",
       "    </tr>\n",
       "    <tr>\n",
       "      <th>8337</th>\n",
       "      <td>5777081</td>\n",
       "      <td>B</td>\n",
       "      <td>1</td>\n",
       "    </tr>\n",
       "    <tr>\n",
       "      <th>8338</th>\n",
       "      <td>5870856</td>\n",
       "      <td>A</td>\n",
       "      <td>1</td>\n",
       "    </tr>\n",
       "    <tr>\n",
       "      <th>8339</th>\n",
       "      <td>5945085</td>\n",
       "      <td>B</td>\n",
       "      <td>1</td>\n",
       "    </tr>\n",
       "    <tr>\n",
       "      <th>8340</th>\n",
       "      <td>5951797</td>\n",
       "      <td>B</td>\n",
       "      <td>1</td>\n",
       "    </tr>\n",
       "  </tbody>\n",
       "</table>\n",
       "<p>8341 rows × 3 columns</p>\n",
       "</div>"
      ],
      "text/plain": [
       "      student_id grp  activity\n",
       "0           1627   A         1\n",
       "1           2085   B         1\n",
       "2           2215   B         1\n",
       "3           3391   A         1\n",
       "4           3401   B         1\n",
       "...          ...  ..       ...\n",
       "8336     5760471   B         1\n",
       "8337     5777081   B         1\n",
       "8338     5870856   A         1\n",
       "8339     5945085   B         1\n",
       "8340     5951797   B         1\n",
       "\n",
       "[8341 rows x 3 columns]"
      ]
     },
     "execution_count": 23,
     "metadata": {},
     "output_type": "execute_result"
    }
   ],
   "source": [
    "active_studs_by_groups = groups_all.merge(active_studs, how='inner', on='student_id')\n",
    "active_studs_by_groups"
   ]
  },
  {
   "cell_type": "markdown",
   "metadata": {},
   "source": [
    "Добавляю данные с информацией об оплатах пользователей в дни проведения эксперимента:"
   ]
  },
  {
   "cell_type": "code",
   "execution_count": 24,
   "metadata": {},
   "outputs": [
    {
     "data": {
      "text/html": [
       "<div>\n",
       "<style scoped>\n",
       "    .dataframe tbody tr th:only-of-type {\n",
       "        vertical-align: middle;\n",
       "    }\n",
       "\n",
       "    .dataframe tbody tr th {\n",
       "        vertical-align: top;\n",
       "    }\n",
       "\n",
       "    .dataframe thead th {\n",
       "        text-align: right;\n",
       "    }\n",
       "</style>\n",
       "<table border=\"1\" class=\"dataframe\">\n",
       "  <thead>\n",
       "    <tr style=\"text-align: right;\">\n",
       "      <th></th>\n",
       "      <th>student_id</th>\n",
       "      <th>grp</th>\n",
       "      <th>activity</th>\n",
       "      <th>rev</th>\n",
       "      <th>payment</th>\n",
       "    </tr>\n",
       "  </thead>\n",
       "  <tbody>\n",
       "    <tr>\n",
       "      <th>0</th>\n",
       "      <td>1627</td>\n",
       "      <td>A</td>\n",
       "      <td>1</td>\n",
       "      <td>990.0</td>\n",
       "      <td>1.0</td>\n",
       "    </tr>\n",
       "    <tr>\n",
       "      <th>1</th>\n",
       "      <td>2085</td>\n",
       "      <td>B</td>\n",
       "      <td>1</td>\n",
       "      <td>0.0</td>\n",
       "      <td>0.0</td>\n",
       "    </tr>\n",
       "    <tr>\n",
       "      <th>2</th>\n",
       "      <td>2215</td>\n",
       "      <td>B</td>\n",
       "      <td>1</td>\n",
       "      <td>0.0</td>\n",
       "      <td>0.0</td>\n",
       "    </tr>\n",
       "    <tr>\n",
       "      <th>3</th>\n",
       "      <td>3391</td>\n",
       "      <td>A</td>\n",
       "      <td>1</td>\n",
       "      <td>0.0</td>\n",
       "      <td>0.0</td>\n",
       "    </tr>\n",
       "    <tr>\n",
       "      <th>4</th>\n",
       "      <td>3401</td>\n",
       "      <td>B</td>\n",
       "      <td>1</td>\n",
       "      <td>0.0</td>\n",
       "      <td>0.0</td>\n",
       "    </tr>\n",
       "    <tr>\n",
       "      <th>...</th>\n",
       "      <td>...</td>\n",
       "      <td>...</td>\n",
       "      <td>...</td>\n",
       "      <td>...</td>\n",
       "      <td>...</td>\n",
       "    </tr>\n",
       "    <tr>\n",
       "      <th>8336</th>\n",
       "      <td>5760471</td>\n",
       "      <td>B</td>\n",
       "      <td>1</td>\n",
       "      <td>0.0</td>\n",
       "      <td>0.0</td>\n",
       "    </tr>\n",
       "    <tr>\n",
       "      <th>8337</th>\n",
       "      <td>5777081</td>\n",
       "      <td>B</td>\n",
       "      <td>1</td>\n",
       "      <td>0.0</td>\n",
       "      <td>0.0</td>\n",
       "    </tr>\n",
       "    <tr>\n",
       "      <th>8338</th>\n",
       "      <td>5870856</td>\n",
       "      <td>A</td>\n",
       "      <td>1</td>\n",
       "      <td>0.0</td>\n",
       "      <td>0.0</td>\n",
       "    </tr>\n",
       "    <tr>\n",
       "      <th>8339</th>\n",
       "      <td>5945085</td>\n",
       "      <td>B</td>\n",
       "      <td>1</td>\n",
       "      <td>0.0</td>\n",
       "      <td>0.0</td>\n",
       "    </tr>\n",
       "    <tr>\n",
       "      <th>8340</th>\n",
       "      <td>5951797</td>\n",
       "      <td>B</td>\n",
       "      <td>1</td>\n",
       "      <td>0.0</td>\n",
       "      <td>0.0</td>\n",
       "    </tr>\n",
       "  </tbody>\n",
       "</table>\n",
       "<p>8341 rows × 5 columns</p>\n",
       "</div>"
      ],
      "text/plain": [
       "      student_id grp  activity    rev  payment\n",
       "0           1627   A         1  990.0      1.0\n",
       "1           2085   B         1    0.0      0.0\n",
       "2           2215   B         1    0.0      0.0\n",
       "3           3391   A         1    0.0      0.0\n",
       "4           3401   B         1    0.0      0.0\n",
       "...          ...  ..       ...    ...      ...\n",
       "8336     5760471   B         1    0.0      0.0\n",
       "8337     5777081   B         1    0.0      0.0\n",
       "8338     5870856   A         1    0.0      0.0\n",
       "8339     5945085   B         1    0.0      0.0\n",
       "8340     5951797   B         1    0.0      0.0\n",
       "\n",
       "[8341 rows x 5 columns]"
      ]
     },
     "execution_count": 24,
     "metadata": {},
     "output_type": "execute_result"
    }
   ],
   "source": [
    "all_data = active_studs_by_groups.merge(checks, how='left', on='student_id')\n",
    "all_data.rev = all_data.rev.fillna(0)\n",
    "all_data.payment = all_data.payment.fillna(0)\n",
    "all_data"
   ]
  },
  {
   "cell_type": "markdown",
   "metadata": {},
   "source": [
    "### Для анализа эксперимента предлагаю использовать следующие метркии:\n",
    "\n",
    " 1. **Конверсия в покупку (conversion rate, CR)** - отношение числа пользователей, совершивших оплату в дни проведения эксперимента, к общему числу пользователей, зашедших на платформу в дни проведения эксперимента:\n",
    "\n",
    "       CR = количество пользователей, совершивших оплату, из зашедших на платформу в дни проведения эксперимента / количество пользователей, зашедших на платформу в дни проведения эксперимента\n",
    "\n",
    "    **Гипотезы:**\n",
    "    \n",
    "\n",
    "    1. Н0 - конверсии в тестовой и контрольной группах не различаются.     \n",
    "    2. Н1 - конверсии в тестовой и контрольной группах различаются.\n",
    "    \n",
    "\n",
    " 2. **ARPPU (Average revenue per paying user)** - средний доход на пользователя, совершившего оплату:\n",
    "\n",
    "       ARPPU = суммарный доход / количество пользователей, совершивших оплату, из зашедших на платформу в дни проведения эксперимента\n",
    "    \n",
    "    **Гипотезы:**\n",
    "    \n",
    "\n",
    "    1. Н0 - средние доходы на платящего пользователя в тестовой и контрольной группах не различаются.\n",
    "    2. Н1 - средние доходы на платящего пользователя в тестовой и контрольной группах различаются.\n",
    "    \n",
    "    \n",
    " 3. **ARPU (Average revenue per user)** - средний доход с привлечённого пользователя:\n",
    "\n",
    "       ARPU = CR * ARPPU\n",
    "    \n",
    "    **Гипотезы:**\n",
    "    \n",
    "\n",
    "    1. Н0 - средние доходы на пользователя в тестовой и контрольной группах не различаются.\n",
    "    2. Н1 - средние доходы на пользователя в тестовой и контрольной группах различаются.\n",
    "    \n"
   ]
  },
  {
   "cell_type": "markdown",
   "metadata": {},
   "source": [
    "#### Определяю значения метрик:"
   ]
  },
  {
   "cell_type": "code",
   "execution_count": 25,
   "metadata": {},
   "outputs": [
    {
     "data": {
      "text/html": [
       "<div>\n",
       "<style scoped>\n",
       "    .dataframe tbody tr th:only-of-type {\n",
       "        vertical-align: middle;\n",
       "    }\n",
       "\n",
       "    .dataframe tbody tr th {\n",
       "        vertical-align: top;\n",
       "    }\n",
       "\n",
       "    .dataframe thead th {\n",
       "        text-align: right;\n",
       "    }\n",
       "</style>\n",
       "<table border=\"1\" class=\"dataframe\">\n",
       "  <thead>\n",
       "    <tr style=\"text-align: right;\">\n",
       "      <th></th>\n",
       "      <th>group</th>\n",
       "      <th>studs</th>\n",
       "      <th>payments</th>\n",
       "      <th>sums</th>\n",
       "      <th>CR</th>\n",
       "      <th>ARPPU</th>\n",
       "      <th>ARPU</th>\n",
       "    </tr>\n",
       "  </thead>\n",
       "  <tbody>\n",
       "    <tr>\n",
       "      <th>0</th>\n",
       "      <td>A</td>\n",
       "      <td>1538</td>\n",
       "      <td>78</td>\n",
       "      <td>72820.0</td>\n",
       "      <td>5.07</td>\n",
       "      <td>933.59</td>\n",
       "      <td>47.35</td>\n",
       "    </tr>\n",
       "    <tr>\n",
       "      <th>1</th>\n",
       "      <td>B</td>\n",
       "      <td>6803</td>\n",
       "      <td>314</td>\n",
       "      <td>394974.0</td>\n",
       "      <td>4.62</td>\n",
       "      <td>1257.88</td>\n",
       "      <td>58.06</td>\n",
       "    </tr>\n",
       "  </tbody>\n",
       "</table>\n",
       "</div>"
      ],
      "text/plain": [
       "  group  studs  payments      sums    CR    ARPPU   ARPU\n",
       "0     A   1538        78   72820.0  5.07   933.59  47.35\n",
       "1     B   6803       314  394974.0  4.62  1257.88  58.06"
      ]
     },
     "execution_count": 25,
     "metadata": {},
     "output_type": "execute_result"
    }
   ],
   "source": [
    "# Создам датафрейм для метрик обеих групп и рассчитаю значения метрик:\n",
    "\n",
    "metrics = pd.DataFrame()\n",
    "metrics['studs'] = all_data.query('activity == 1').groupby('grp').agg({'student_id' : 'count'}).student_id\n",
    "metrics['payments'] = all_data.query('activity == 1 and rev > 0').groupby('grp').agg({'student_id' : 'count'}).student_id\n",
    "metrics['sums'] = all_data.query('activity == 1').groupby('grp').agg({'rev' : 'sum'}).rev.round(2)\n",
    "metrics['CR'] = (metrics.payments * 100 / metrics.studs).round(2)\n",
    "metrics['ARPPU'] = (metrics.sums / metrics.payments).round(2)\n",
    "metrics['ARPU'] = (metrics.sums / metrics.studs).round(2)\n",
    "metrics = metrics.reset_index().rename(columns={'index' : 'group'})\n",
    "metrics "
   ]
  },
  {
   "cell_type": "markdown",
   "metadata": {},
   "source": [
    "Рассчитаю разницу между метриками в контрольной и целевой группах в процентном выражении."
   ]
  },
  {
   "cell_type": "code",
   "execution_count": 26,
   "metadata": {},
   "outputs": [
    {
     "data": {
      "text/html": [
       "<div>\n",
       "<style scoped>\n",
       "    .dataframe tbody tr th:only-of-type {\n",
       "        vertical-align: middle;\n",
       "    }\n",
       "\n",
       "    .dataframe tbody tr th {\n",
       "        vertical-align: top;\n",
       "    }\n",
       "\n",
       "    .dataframe thead th {\n",
       "        text-align: right;\n",
       "    }\n",
       "</style>\n",
       "<table border=\"1\" class=\"dataframe\">\n",
       "  <thead>\n",
       "    <tr style=\"text-align: right;\">\n",
       "      <th></th>\n",
       "      <th>ARPPU, %</th>\n",
       "      <th>ARPU, %</th>\n",
       "      <th>CR, %</th>\n",
       "      <th>payments, %</th>\n",
       "      <th>studs, %</th>\n",
       "      <th>sums, %</th>\n",
       "    </tr>\n",
       "  </thead>\n",
       "  <tbody>\n",
       "    <tr>\n",
       "      <th>0</th>\n",
       "      <td>34.74</td>\n",
       "      <td>22.62</td>\n",
       "      <td>-8.88</td>\n",
       "      <td>302.56</td>\n",
       "      <td>342.33</td>\n",
       "      <td>442.4</td>\n",
       "    </tr>\n",
       "  </tbody>\n",
       "</table>\n",
       "</div>"
      ],
      "text/plain": [
       "   ARPPU, %  ARPU, %  CR, %  payments, %  studs, %  sums, %\n",
       "0     34.74    22.62  -8.88       302.56    342.33    442.4"
      ]
     },
     "execution_count": 26,
     "metadata": {},
     "output_type": "execute_result"
    }
   ],
   "source": [
    "# Для наглядности создам датафрейм с разницей значений метрик и количества пользователей/размера оплат в %:\n",
    "\n",
    "difference = pd.DataFrame()\n",
    "diff_studs = round(int(metrics.query('group == \"B\"').studs) * 100 / int(metrics.query('group == \"A\"').studs) - 100, 2)\n",
    "diff_payments = round(int(metrics.query('group == \"B\"').payments) * 100 / int(metrics.query('group == \"A\"').payments) - 100, 2)\n",
    "diff_sums = round(float(metrics.query('group == \"B\"').sums) * 100 / float(metrics.query('group == \"A\"').sums) - 100, 2)\n",
    "diff_CR = round(float(metrics.query('group == \"B\"').CR) * 100 / float(metrics.query('group == \"A\"').CR) - 100, 2)\n",
    "diff_ARPPU = round(float(metrics.query('group == \"B\"').ARPPU) * 100 / float(metrics.query('group == \"A\"').ARPPU) - 100, 2)\n",
    "diff_ARPU = round(float(metrics.query('group == \"B\"').ARPU) * 100 / float(metrics.query('group == \"A\"').ARPU) - 100, 2)\n",
    "\n",
    "row_difference = {'studs, %' : diff_studs, \\\n",
    "                  'payments, %' : diff_payments, \\\n",
    "                  'sums, %' : diff_sums, \\\n",
    "                  'CR, %' : diff_CR, \\\n",
    "                  'ARPPU, %' : diff_ARPPU, \\\n",
    "                  'ARPU, %' : diff_ARPU}\n",
    "difference = difference.append(row_difference, ignore_index=True)\n",
    "difference"
   ]
  },
  {
   "cell_type": "markdown",
   "metadata": {},
   "source": [
    "Из полученных результатов видно, что:\n",
    " 1. Тестовая группа более чем в 4 раза превышает по количеству контрольную группу;\n",
    " 2. Конверсия в тестовой группе снизилась на 8,88%, а метрики ARPPU и ARPU увеличились на 34,74% и 22,62% соответственно."
   ]
  },
  {
   "cell_type": "markdown",
   "metadata": {},
   "source": [
    "#### Рассматриваю изменение конверсии:"
   ]
  },
  {
   "cell_type": "markdown",
   "metadata": {},
   "source": [
    "Необходимо применить критерий Хи-квадрат (или критерий согласия Пирсона), т.к. это категориальная переменная (покупка либо совершена, либо нет), а данный метод используется для проверки того, соответствует ли категориальная случайная величина выбранному распределению. Должны соблюдаться условия:\n",
    "\n",
    "- Все наблюдения независимы\n",
    "- Количество наблюдений в каждой ячейке больше 5\n",
    "\n",
    "Оба этих условия выполняются, следовательно, гипотезы:\n",
    "\n",
    "    1. Н0 - конверсии в тестовой и контрольной группах статистически значимо не различаются.     \n",
    "    2. Н1 - конверсии в тестовой и контрольной группах различаются статистически значимо.\n"
   ]
  },
  {
   "cell_type": "code",
   "execution_count": 27,
   "metadata": {},
   "outputs": [
    {
     "data": {
      "text/html": [
       "<div>\n",
       "<style scoped>\n",
       "    .dataframe tbody tr th:only-of-type {\n",
       "        vertical-align: middle;\n",
       "    }\n",
       "\n",
       "    .dataframe tbody tr th {\n",
       "        vertical-align: top;\n",
       "    }\n",
       "\n",
       "    .dataframe thead th {\n",
       "        text-align: right;\n",
       "    }\n",
       "</style>\n",
       "<table border=\"1\" class=\"dataframe\">\n",
       "  <thead>\n",
       "    <tr style=\"text-align: right;\">\n",
       "      <th>grp</th>\n",
       "      <th>A</th>\n",
       "      <th>B</th>\n",
       "    </tr>\n",
       "    <tr>\n",
       "      <th>payment</th>\n",
       "      <th></th>\n",
       "      <th></th>\n",
       "    </tr>\n",
       "  </thead>\n",
       "  <tbody>\n",
       "    <tr>\n",
       "      <th>0.0</th>\n",
       "      <td>1460</td>\n",
       "      <td>6489</td>\n",
       "    </tr>\n",
       "    <tr>\n",
       "      <th>1.0</th>\n",
       "      <td>78</td>\n",
       "      <td>314</td>\n",
       "    </tr>\n",
       "  </tbody>\n",
       "</table>\n",
       "</div>"
      ],
      "text/plain": [
       "grp         A     B\n",
       "payment            \n",
       "0.0      1460  6489\n",
       "1.0        78   314"
      ]
     },
     "execution_count": 27,
     "metadata": {},
     "output_type": "execute_result"
    }
   ],
   "source": [
    "# Создаю таблицу сопряженности:\n",
    "\n",
    "pd.crosstab(all_data.payment, all_data.grp)"
   ]
  },
  {
   "cell_type": "code",
   "execution_count": 28,
   "metadata": {},
   "outputs": [],
   "source": [
    "# Визуализирую данные: "
   ]
  },
  {
   "cell_type": "code",
   "execution_count": 29,
   "metadata": {},
   "outputs": [
    {
     "data": {
      "text/plain": [
       "<matplotlib.axes._subplots.AxesSubplot at 0x7faf4cf64198>"
      ]
     },
     "execution_count": 29,
     "metadata": {},
     "output_type": "execute_result"
    },
    {
     "data": {
      "image/png": "[encoded data removed]",
      "text/plain": [
       "<Figure size 432x288 with 1 Axes>"
      ]
     },
     "metadata": {},
     "output_type": "display_data"
    }
   ],
   "source": [
    "sns.barplot(x='group', y='CR', data=metrics, palette='rocket')"
   ]
  },
  {
   "cell_type": "markdown",
   "metadata": {},
   "source": [
    "Проверяю данные по критерию Хи-квадрат:"
   ]
  },
  {
   "cell_type": "code",
   "execution_count": 30,
   "metadata": {},
   "outputs": [
    {
     "data": {
      "text/plain": [
       "(0.48480826522557896, 0.48625240457231045)"
      ]
     },
     "execution_count": 30,
     "metadata": {},
     "output_type": "execute_result"
    }
   ],
   "source": [
    "from scipy.stats import chi2_contingency, chi2 \n",
    "stat, p, dof, expected = chi2_contingency(pd.crosstab(all_data.payment, all_data.grp))\n",
    "stat, p"
   ]
  },
  {
   "cell_type": "markdown",
   "metadata": {},
   "source": [
    "Принимая уровень значимости альфа = 5%, по результату теста нет оснований для отклонения нулевой гипотезы, т.к. полученное значение p = 0,48625 > 0.05 и превышает установленный порог, следовательно, можно сделать вывод, что конверсии в группах статистически значимо не различаются.  \n",
    "\n",
    "#### Вывод:\n",
    "\n",
    "По результатам эксперимента связь между группой и количеством покупок при заданном уровне значимости не была установлена."
   ]
  },
  {
   "cell_type": "markdown",
   "metadata": {},
   "source": [
    "#### Рассматриваю изменение ARPPU:"
   ]
  },
  {
   "cell_type": "code",
   "execution_count": 31,
   "metadata": {},
   "outputs": [
    {
     "data": {
      "text/plain": [
       "<matplotlib.axes._subplots.AxesSubplot at 0x7faf4c9b6b38>"
      ]
     },
     "execution_count": 31,
     "metadata": {},
     "output_type": "execute_result"
    },
    {
     "data": {
      "image/png": "[encoded data removed]",
      "text/plain": [
       "<Figure size 432x288 with 1 Axes>"
      ]
     },
     "metadata": {},
     "output_type": "display_data"
    }
   ],
   "source": [
    "# Визуализирую данные:\n",
    "\n",
    "sns.histplot(x='rev', data=all_data.query('rev > 0'), hue='grp', bins=20, palette='rocket')"
   ]
  },
  {
   "cell_type": "markdown",
   "metadata": {},
   "source": [
    "Из графика явно видно, что распределения в обеих группах отличаются от нормального."
   ]
  },
  {
   "cell_type": "code",
   "execution_count": 32,
   "metadata": {},
   "outputs": [],
   "source": [
    "# Разделяю датафрейм на тестовую и контрольную группы:\n",
    "\n",
    "all_data_control_ARPPU = all_data.query('grp == \"A\" and rev > 0')\n",
    "all_data_test_ARPPU = all_data.query('grp == \"B\" and rev > 0')"
   ]
  },
  {
   "cell_type": "markdown",
   "metadata": {},
   "source": [
    "Визуализирую данные в тестовой и контрольной группах:"
   ]
  },
  {
   "cell_type": "code",
   "execution_count": 33,
   "metadata": {},
   "outputs": [
    {
     "data": {
      "text/plain": [
       "<matplotlib.axes._subplots.AxesSubplot at 0x7faf4c8affd0>"
      ]
     },
     "execution_count": 33,
     "metadata": {},
     "output_type": "execute_result"
    },
    {
     "data": {
      "image/png": "[encoded data removed]",
      "text/plain": [
       "<Figure size 432x288 with 1 Axes>"
      ]
     },
     "metadata": {},
     "output_type": "display_data"
    }
   ],
   "source": [
    "sns.boxplot(data=all_data_control_ARPPU, x='rev', palette='rocket')"
   ]
  },
  {
   "cell_type": "code",
   "execution_count": 34,
   "metadata": {},
   "outputs": [
    {
     "data": {
      "text/plain": [
       "<matplotlib.axes._subplots.AxesSubplot at 0x7faf4c89fa58>"
      ]
     },
     "execution_count": 34,
     "metadata": {},
     "output_type": "execute_result"
    },
    {
     "data": {
      "image/png": "[encoded data removed]",
      "text/plain": [
       "<Figure size 432x288 with 1 Axes>"
      ]
     },
     "metadata": {},
     "output_type": "display_data"
    }
   ],
   "source": [
    "sns.boxplot(data=all_data_test_ARPPU, x='rev', palette='rocket')"
   ]
  },
  {
   "cell_type": "markdown",
   "metadata": {},
   "source": [
    "#### Условия применения t-test-а:\n",
    "\n",
    "1) дисперсии внутри групп должны быть примерно одинаковы (требование гомогенности дисперсий). Проверить можно с помощью критерия Левена и критерия Фишера.\n",
    "\n",
    "2) нормальность данных обеих групп (по причине возможного завышения вероятности ошибки I рода). "
   ]
  },
  {
   "cell_type": "markdown",
   "metadata": {},
   "source": [
    "#### Проверю обе группы на нормальность распределения:"
   ]
  },
  {
   "cell_type": "code",
   "execution_count": 35,
   "metadata": {},
   "outputs": [
    {
     "data": {
      "text/plain": [
       "ShapiroResult(statistic=0.7353236079216003, pvalue=1.4986822893803264e-10)"
      ]
     },
     "execution_count": 35,
     "metadata": {},
     "output_type": "execute_result"
    }
   ],
   "source": [
    "stats.shapiro(all_data_control_ARPPU.rev)"
   ]
  },
  {
   "cell_type": "code",
   "execution_count": 36,
   "metadata": {},
   "outputs": [
    {
     "data": {
      "text/plain": [
       "ShapiroResult(statistic=0.8547235727310181, pvalue=1.5437024585965894e-16)"
      ]
     },
     "execution_count": 36,
     "metadata": {},
     "output_type": "execute_result"
    }
   ],
   "source": [
    "stats.shapiro(all_data_test_ARPPU.rev)"
   ]
  },
  {
   "cell_type": "markdown",
   "metadata": {},
   "source": [
    "Построю QQ-plot-ы для обеих групп:"
   ]
  },
  {
   "cell_type": "code",
   "execution_count": 37,
   "metadata": {},
   "outputs": [
    {
     "data": {
      "text/plain": [
       "<Figure size 864x360 with 0 Axes>"
      ]
     },
     "metadata": {},
     "output_type": "display_data"
    },
    {
     "data": {
      "image/png": "[encoded data removed]",
      "text/plain": [
       "<Figure size 360x288 with 1 Axes>"
      ]
     },
     "metadata": {},
     "output_type": "display_data"
    }
   ],
   "source": [
    "sns.set(\n",
    "    font_scale=1,\n",
    "    style=\"white\"\n",
    "        )\n",
    "plt.figure(figsize=(12,5))\n",
    "\n",
    "qq_pg = pg.qqplot(all_data_control_ARPPU.rev, confidence=False)\n",
    "plt.show()"
   ]
  },
  {
   "cell_type": "code",
   "execution_count": 38,
   "metadata": {},
   "outputs": [
    {
     "data": {
      "image/png": "[encoded data removed]",
      "text/plain": [
       "<Figure size 360x288 with 1 Axes>"
      ]
     },
     "metadata": {},
     "output_type": "display_data"
    }
   ],
   "source": [
    "qq_pg = pg.qqplot(all_data_test_ARPPU.rev, confidence=False)\n",
    "plt.show()"
   ]
  },
  {
   "cell_type": "markdown",
   "metadata": {},
   "source": [
    "По результатам тестов Шапиро-Уилка можно сделать вывод, что распределение в обеих группах статистически значимо отличается от нормального (нулевая гипотеза о том, что значения распределены нормально, отклоняется по результатам тестов, т.к. p < 0.05).\n",
    "\n",
    "QQ-plot-ы также наглядно визуализируют отклонение распределений от нормальных."
   ]
  },
  {
   "cell_type": "markdown",
   "metadata": {},
   "source": [
    "#### Проверю обе группы на гомогенность дисперсий при помощи теста Левена:\n",
    "\n",
    "    1. Н0 : дисперсии в контрольной и тестовой группах не различаются.\n",
    "    2. Н1 : дисперсии в контрольной и тестовой группах различаются."
   ]
  },
  {
   "cell_type": "code",
   "execution_count": 39,
   "metadata": {},
   "outputs": [
    {
     "data": {
      "text/plain": [
       "LeveneResult(statistic=3.075681699981606, pvalue=0.08025675761347022)"
      ]
     },
     "execution_count": 39,
     "metadata": {},
     "output_type": "execute_result"
    }
   ],
   "source": [
    "stats.levene(all_data_control_ARPPU.rev, all_data_test_ARPPU.rev)"
   ]
  },
  {
   "cell_type": "markdown",
   "metadata": {},
   "source": [
    "По результатам теста Левена можно сделать вывод, что дисперсии в группах не различаются (p > 0.05), но т.к. распределения в группах статистически значимо отличаются от нормального, то применять t-test к результатам эксперимента некорректно. Т.к U-критерий Манна-Уитни в данном случае может быть неточным, для проверки гипотез буду использовать бутстрап."
   ]
  },
  {
   "cell_type": "markdown",
   "metadata": {},
   "source": [
    "#### Объявляю функцию, которая позволит проверять гипотезы с помощью бутстрапа по среднему:"
   ]
  },
  {
   "cell_type": "code",
   "execution_count": 40,
   "metadata": {},
   "outputs": [],
   "source": [
    "def get_bootstrap(\n",
    "    data_column_1, # числовые значения первой выборки\n",
    "    data_column_2, # числовые значения второй выборки\n",
    "    boot_it = 1000, # количество бутстрэп-подвыборок\n",
    "    statistic = np.mean, # интересующая нас статистика\n",
    "    bootstrap_conf_level = 0.95 # уровень значимости\n",
    "):\n",
    "    boot_data = []\n",
    "    for i in tqdm(range(boot_it)): # извлекаем подвыборки\n",
    "        samples_1 = data_column_1.sample(\n",
    "            len(data_column_1), \n",
    "            replace = True # параметр возвращения\n",
    "        ).values\n",
    "        \n",
    "        samples_2 = data_column_2.sample(\n",
    "            len(data_column_1), \n",
    "            replace = True\n",
    "        ).values\n",
    "        \n",
    "        boot_data.append(statistic(samples_1)-statistic(samples_2)) # mean() - применяем статистику\n",
    "        \n",
    "    pd_boot_data = pd.DataFrame(boot_data)\n",
    "        \n",
    "    left_quant = (1 - bootstrap_conf_level)/2\n",
    "    right_quant = 1 - (1 - bootstrap_conf_level) / 2\n",
    "    quants = pd_boot_data.quantile([left_quant, right_quant])\n",
    "        \n",
    "    p_1 = norm.cdf(\n",
    "        x = 0, \n",
    "        loc = np.mean(boot_data), \n",
    "        scale = np.std(boot_data)\n",
    "    )\n",
    "    p_2 = norm.cdf(\n",
    "        x = 0, \n",
    "        loc = -np.mean(boot_data), \n",
    "        scale = np.std(boot_data)\n",
    "    )\n",
    "    p_value = min(p_1, p_2) * 2\n",
    "        \n",
    "    # Визуализация\n",
    "    _, _, bars = plt.hist(pd_boot_data[0], bins = 50)\n",
    "    for bar in bars:\n",
    "        if bar.get_x() <= quants.iloc[0][0] or bar.get_x() >= quants.iloc[1][0]:\n",
    "            bar.set_facecolor('red')\n",
    "        else: \n",
    "            bar.set_facecolor('grey')\n",
    "            bar.set_edgecolor('black')\n",
    "    \n",
    "    plt.style.use('ggplot')\n",
    "    plt.vlines(quants,ymin=0,ymax=50,linestyle='--')\n",
    "    plt.xlabel('boot_data')\n",
    "    plt.ylabel('frequency')\n",
    "    plt.title(\"Histogram of boot_data\")\n",
    "    plt.show()\n",
    "       \n",
    "    return {\"boot_data\": boot_data, \n",
    "            \"quants\": quants, \n",
    "            \"p_value\": p_value}"
   ]
  },
  {
   "cell_type": "code",
   "execution_count": 41,
   "metadata": {},
   "outputs": [
    {
     "data": {
      "application/vnd.jupyter.widget-view+json": {
       "model_id": "d2d5d97c0aff4beaba5c87f1f84e1c70",
       "version_major": 2,
       "version_minor": 0
      },
      "text/plain": [
       "HBox(children=(FloatProgress(value=0.0, max=1000.0), HTML(value='')))"
      ]
     },
     "metadata": {},
     "output_type": "display_data"
    },
    {
     "name": "stdout",
     "output_type": "stream",
     "text": [
      "\n"
     ]
    },
    {
     "data": {
      "image/png": "[encoded data removed]",
      "text/plain": [
       "<Figure size 864x360 with 1 Axes>"
      ]
     },
     "metadata": {},
     "output_type": "display_data"
    }
   ],
   "source": [
    "# Использую бутстрап:\n",
    "\n",
    "sns.set(\n",
    "    font_scale=1,\n",
    "    style=\"whitegrid\"\n",
    "        )\n",
    "plt.figure(figsize=(12,5))\n",
    "\n",
    "booted_data_ARPPU = get_bootstrap(all_data_test_ARPPU.rev, all_data_control_ARPPU.rev)"
   ]
  },
  {
   "cell_type": "code",
   "execution_count": 42,
   "metadata": {},
   "outputs": [
    {
     "data": {
      "text/plain": [
       "2.521166744913962e-06"
      ]
     },
     "execution_count": 42,
     "metadata": {},
     "output_type": "execute_result"
    }
   ],
   "source": [
    "booted_data_ARPPU[\"p_value\"] "
   ]
  },
  {
   "cell_type": "code",
   "execution_count": 43,
   "metadata": {},
   "outputs": [
    {
     "data": {
      "text/html": [
       "<div>\n",
       "<style scoped>\n",
       "    .dataframe tbody tr th:only-of-type {\n",
       "        vertical-align: middle;\n",
       "    }\n",
       "\n",
       "    .dataframe tbody tr th {\n",
       "        vertical-align: top;\n",
       "    }\n",
       "\n",
       "    .dataframe thead th {\n",
       "        text-align: right;\n",
       "    }\n",
       "</style>\n",
       "<table border=\"1\" class=\"dataframe\">\n",
       "  <thead>\n",
       "    <tr style=\"text-align: right;\">\n",
       "      <th></th>\n",
       "      <th>0</th>\n",
       "    </tr>\n",
       "  </thead>\n",
       "  <tbody>\n",
       "    <tr>\n",
       "      <th>0.025</th>\n",
       "      <td>181.330742</td>\n",
       "    </tr>\n",
       "    <tr>\n",
       "      <th>0.975</th>\n",
       "      <td>450.708451</td>\n",
       "    </tr>\n",
       "  </tbody>\n",
       "</table>\n",
       "</div>"
      ],
      "text/plain": [
       "                0\n",
       "0.025  181.330742\n",
       "0.975  450.708451"
      ]
     },
     "execution_count": 43,
     "metadata": {},
     "output_type": "execute_result"
    }
   ],
   "source": [
    "booted_data_ARPPU[\"quants\"]"
   ]
  },
  {
   "cell_type": "markdown",
   "metadata": {},
   "source": [
    "Т.к. 0 не попал в доверительный интервал и p < 0.05, то нулевую гипотезу можно отклонить и средние значения в тестовой и контрольной группах значимо различаются, т.е. другими словами, наблюдаются статистически значимые различия между средними ARPPU в обеих группах."
   ]
  },
  {
   "cell_type": "markdown",
   "metadata": {},
   "source": [
    "#### Рассматриваю изменение ARPU:"
   ]
  },
  {
   "cell_type": "code",
   "execution_count": 44,
   "metadata": {},
   "outputs": [
    {
     "data": {
      "text/plain": [
       "<matplotlib.axes._subplots.AxesSubplot at 0x7faf4c652ef0>"
      ]
     },
     "execution_count": 44,
     "metadata": {},
     "output_type": "execute_result"
    },
    {
     "data": {
      "image/png": "[encoded data removed]",
      "text/plain": [
       "<Figure size 432x288 with 1 Axes>"
      ]
     },
     "metadata": {},
     "output_type": "display_data"
    }
   ],
   "source": [
    "# Визуализирую данные:\n",
    "\n",
    "sns.histplot(x='rev', data=all_data, hue='grp', bins=20, palette='rocket')"
   ]
  },
  {
   "cell_type": "markdown",
   "metadata": {},
   "source": [
    "Из графика явно видно, что распределения в обеих группах отличаются от нормального."
   ]
  },
  {
   "cell_type": "code",
   "execution_count": 45,
   "metadata": {},
   "outputs": [],
   "source": [
    "# Разделяю датафрейм на тестовую и контрольную группы:\n",
    "\n",
    "all_data_control_ARPU = all_data.query('grp == \"A\"')\n",
    "all_data_test_ARPU = all_data.query('grp == \"B\"')"
   ]
  },
  {
   "cell_type": "markdown",
   "metadata": {},
   "source": [
    "#### Проверю обе группы на нормальность распределения:"
   ]
  },
  {
   "cell_type": "code",
   "execution_count": 46,
   "metadata": {},
   "outputs": [
    {
     "data": {
      "text/plain": [
       "ShapiroResult(statistic=0.1541670560836792, pvalue=0.0)"
      ]
     },
     "execution_count": 46,
     "metadata": {},
     "output_type": "execute_result"
    }
   ],
   "source": [
    "stats.shapiro(all_data_control_ARPU.rev)"
   ]
  },
  {
   "cell_type": "code",
   "execution_count": 47,
   "metadata": {},
   "outputs": [
    {
     "name": "stderr",
     "output_type": "stream",
     "text": [
      "/opt/tljh/user/lib/python3.7/site-packages/scipy/stats/morestats.py:1760: UserWarning: p-value may not be accurate for N > 5000.\n",
      "  warnings.warn(\"p-value may not be accurate for N > 5000.\")\n"
     ]
    },
    {
     "data": {
      "text/plain": [
       "ShapiroResult(statistic=0.18124502897262573, pvalue=0.0)"
      ]
     },
     "execution_count": 47,
     "metadata": {},
     "output_type": "execute_result"
    }
   ],
   "source": [
    "stats.shapiro(all_data_test_ARPU.rev)"
   ]
  },
  {
   "cell_type": "markdown",
   "metadata": {},
   "source": [
    "Построю QQ-plot-ы для обеих групп:"
   ]
  },
  {
   "cell_type": "code",
   "execution_count": 48,
   "metadata": {},
   "outputs": [
    {
     "data": {
      "image/png": "[encoded data removed]",
      "text/plain": [
       "<Figure size 360x288 with 1 Axes>"
      ]
     },
     "metadata": {},
     "output_type": "display_data"
    }
   ],
   "source": [
    "qq_pg = pg.qqplot(all_data_control_ARPU.rev, confidence=False)\n",
    "plt.show()"
   ]
  },
  {
   "cell_type": "code",
   "execution_count": 49,
   "metadata": {},
   "outputs": [
    {
     "data": {
      "image/png": "[encoded data removed]",
      "text/plain": [
       "<Figure size 360x288 with 1 Axes>"
      ]
     },
     "metadata": {},
     "output_type": "display_data"
    }
   ],
   "source": [
    "qq_pg = pg.qqplot(all_data_test_ARPPU.rev, confidence=False)\n",
    "plt.show()"
   ]
  },
  {
   "cell_type": "markdown",
   "metadata": {},
   "source": [
    "По результатам тестов Шапиро-Уилка можно сделать вывод, что распределение в обеих группах статистически значимо отличается от нормального (нулевая гипотеза о том, что значения распределены нормально, отклоняется по результатам тестов, т.к. p < 0.05).\n",
    "\n",
    "QQ-plot-ы также наглядно визуализируют отклонение распределений от нормальных.\n",
    "\n",
    "Следовательно, по аналогии с ARPPU, для проверки гипотез буду использовать бутстрап."
   ]
  },
  {
   "cell_type": "code",
   "execution_count": 50,
   "metadata": {},
   "outputs": [
    {
     "data": {
      "application/vnd.jupyter.widget-view+json": {
       "model_id": "8cd378cd78b442a38fc2166c47aba53c",
       "version_major": 2,
       "version_minor": 0
      },
      "text/plain": [
       "HBox(children=(FloatProgress(value=0.0, max=1000.0), HTML(value='')))"
      ]
     },
     "metadata": {},
     "output_type": "display_data"
    },
    {
     "name": "stdout",
     "output_type": "stream",
     "text": [
      "\n"
     ]
    },
    {
     "data": {
      "image/png": "[encoded data removed]",
      "text/plain": [
       "<Figure size 864x360 with 1 Axes>"
      ]
     },
     "metadata": {},
     "output_type": "display_data"
    }
   ],
   "source": [
    "# Визуализирую данные и использую бутстрап:\n",
    "\n",
    "sns.set(\n",
    "    font_scale=1,\n",
    "    style=\"whitegrid\"\n",
    "        )\n",
    "plt.figure(figsize=(12,5))\n",
    "\n",
    "booted_data_ARPU = get_bootstrap(all_data_test_ARPU.rev, all_data_control_ARPU.rev)"
   ]
  },
  {
   "cell_type": "code",
   "execution_count": 51,
   "metadata": {},
   "outputs": [
    {
     "data": {
      "text/plain": [
       "0.03640524851171103"
      ]
     },
     "execution_count": 51,
     "metadata": {},
     "output_type": "execute_result"
    }
   ],
   "source": [
    "booted_data_ARPU[\"p_value\"] "
   ]
  },
  {
   "cell_type": "code",
   "execution_count": 52,
   "metadata": {},
   "outputs": [
    {
     "data": {
      "text/html": [
       "<div>\n",
       "<style scoped>\n",
       "    .dataframe tbody tr th:only-of-type {\n",
       "        vertical-align: middle;\n",
       "    }\n",
       "\n",
       "    .dataframe tbody tr th {\n",
       "        vertical-align: top;\n",
       "    }\n",
       "\n",
       "    .dataframe thead th {\n",
       "        text-align: right;\n",
       "    }\n",
       "</style>\n",
       "<table border=\"1\" class=\"dataframe\">\n",
       "  <thead>\n",
       "    <tr style=\"text-align: right;\">\n",
       "      <th></th>\n",
       "      <th>0</th>\n",
       "    </tr>\n",
       "  </thead>\n",
       "  <tbody>\n",
       "    <tr>\n",
       "      <th>0.025</th>\n",
       "      <td>0.259915</td>\n",
       "    </tr>\n",
       "    <tr>\n",
       "      <th>0.975</th>\n",
       "      <td>20.825394</td>\n",
       "    </tr>\n",
       "  </tbody>\n",
       "</table>\n",
       "</div>"
      ],
      "text/plain": [
       "               0\n",
       "0.025   0.259915\n",
       "0.975  20.825394"
      ]
     },
     "execution_count": 52,
     "metadata": {},
     "output_type": "execute_result"
    }
   ],
   "source": [
    "booted_data_ARPU[\"quants\"]"
   ]
  },
  {
   "cell_type": "markdown",
   "metadata": {},
   "source": [
    "Т.к. 0 не попал в доверительный интервал и p < 0.05, то нулевую гипотезу можно отклонить и средние значения в тестовой и контрольной группах значимо различаются, т.е. другими словами, наблюдаются статистически значимые различия между средними ARPU в обеих группах."
   ]
  },
  {
   "cell_type": "markdown",
   "metadata": {},
   "source": [
    "### Выводы:"
   ]
  },
  {
   "cell_type": "markdown",
   "metadata": {},
   "source": [
    "По результатам бутстрапа выявлены статистически значимые различия метрик ARPPU, ARPU в тестовой и контрольной группах (они выросли на 34,74% и 22,62% соответственно) и не выявлено значимое различие в конверсиях между группами.\n",
    "\n",
    "Стоит отметить, что, возможно, система сплитования работает не совсем корректно: тестовая группа более чем в 4 раза превышает по количеству контрольную группу, а также в тестовой группе есть оплаты, резко выделяющиеся на фоне остальных по сумме и подобные им отсутствуют в контрольной группе. \n",
    "\n",
    "На мой взгляд, следует увеличить размер контрольной группы для последующего перезапуска эксперимента, в этом случае эксперимент будет более корректным. Также явно стоит проанализировать пользователей с высоким чеком оплаты в тестовой группе, либо в целом сегментировать пользователей по сумме оплат и посмотреть на различия метрик по группам уже непостредственно в разрезе сегментов.\n",
    "\n",
    "Однако, если по каким-либо причинам перезапуск эксперимента невозможен и ошибок в системе сплитования нет, то на основании статистически значимого по результатам бутстрапа роста метрик ARPPU, ARPU можно попробовать запустить новую механику оплаты.\n",
    "\n",
    "П.С. \n",
    " Ради интереса (без оформления результатов) я посмотрела на расчеты без дополнительных данных из файла group_add, результаты тестов не изменились."
   ]
  },
  {
   "cell_type": "markdown",
   "metadata": {},
   "source": [
    "## Задание 2. SQL"
   ]
  },
  {
   "cell_type": "markdown",
   "metadata": {},
   "source": [
    "2.1 Очень усердные ученики.\n",
    "\n",
    "2.1.1 Условие\n",
    "\n",
    "Образовательные курсы состоят из различных уроков, каждый из которых состоит из нескольких маленьких заданий. Каждое такое маленькое задание называется \"горошиной\".\n",
    "\n",
    "Назовём очень усердным учеником того пользователя, который хотя бы раз за текущий месяц правильно решил 20 горошин.\n",
    "\n",
    "2.1.2 Задача\n",
    "\n",
    "Дана таблица default.peas:\n",
    "\n",
    "Название атрибута\tТип атрибута\tСмысловое значение\n",
    "\n",
    "st_id\tint\tID ученика\n",
    "\n",
    "timest\ttimestamp\tВремя решения карточки\n",
    "\n",
    "correct\tbool\tПравильно ли решена горошина?\n",
    "\n",
    "subject\ttext\tДисциплина, в которой находится горошина\n",
    "\n",
    "\n",
    "Необходимо написать оптимальный запрос, который даст информацию о количестве очень усердных студентов.NB! Под усердным студентом мы понимаем студента, который правильно решил 20 задач за текущий месяц.\n",
    "\n",
    "2.2 Оптимизация воронки\n",
    "\n",
    "2.2.1 Условие\n",
    "\n",
    "Образовательная платформа предлагает пройти студентам курсы по модели trial: студент может решить бесплатно лишь 30 горошин в день. Для неограниченного количества заданий в определенной дисциплине студенту необходимо приобрести полный доступ. Команда провела эксперимент, где был протестирован новый экран оплаты.\n",
    "\n",
    "2.2.2 Задача\n",
    "\n",
    "Дана таблицы: default.peas (см. выше), default.studs:\n",
    "\n",
    "Название атрибута\tТип атрибута\tСмысловое значение\n",
    "\n",
    "st_id\tint\t ID ученика\n",
    "\n",
    "test_grp\ttext\t Метка ученика в данном эксперименте\n",
    "\n",
    "и default.final_project_check:\n",
    "\n",
    "Название атрибута\tТип атрибута\tСмысловое значение\n",
    "\n",
    "st_id\tint \tID ученика\n",
    "\n",
    "sale_time\ttimestamp\tВремя покупки\n",
    "\n",
    "money\tint\tЦена, по которой приобрели данный курс\n",
    "\n",
    "subject\ttext \t\n",
    "\n",
    "Необходимо в одном запросе выгрузить следующую информацию о группах пользователей:\n",
    "\n",
    "ARPU \n",
    "\n",
    "ARPAU \n",
    "\n",
    "CR в покупку \n",
    "\n",
    "СR активного пользователя в покупку \n",
    "\n",
    "CR пользователя из активности по математике (subject = ’math’) в покупку курса по математике\n",
    "\n",
    "ARPU считается относительно всех пользователей, попавших в группы.\n",
    "\n",
    "Активным считается пользователь, за все время решивший больше 10 задач правильно в любых дисциплинах.\n",
    "\n",
    "Активным по математике считается пользователь, за все время решивший 2 или больше задач правильно по математике.\n",
    "\n",
    "Все данные находятся в табличном виде в ClickHouse"
   ]
  },
  {
   "cell_type": "markdown",
   "metadata": {},
   "source": [
    "### 2.1.2 Задача"
   ]
  },
  {
   "cell_type": "code",
   "execution_count": 53,
   "metadata": {},
   "outputs": [],
   "source": [
    "# Подключаюсь к ClickHouse:\n",
    "\n",
    "connection_default = {'host': 'https://clickhouse.lab.karpov.courses',\n",
    "                      'database':'default',\n",
    "                      'user':'student', \n",
    "                      'password':'dpo_python_2020'\n",
    "                     }"
   ]
  },
  {
   "cell_type": "code",
   "execution_count": 54,
   "metadata": {},
   "outputs": [
    {
     "data": {
      "text/html": [
       "<div>\n",
       "<style scoped>\n",
       "    .dataframe tbody tr th:only-of-type {\n",
       "        vertical-align: middle;\n",
       "    }\n",
       "\n",
       "    .dataframe tbody tr th {\n",
       "        vertical-align: top;\n",
       "    }\n",
       "\n",
       "    .dataframe thead th {\n",
       "        text-align: right;\n",
       "    }\n",
       "</style>\n",
       "<table border=\"1\" class=\"dataframe\">\n",
       "  <thead>\n",
       "    <tr style=\"text-align: right;\">\n",
       "      <th></th>\n",
       "      <th>great_students</th>\n",
       "    </tr>\n",
       "  </thead>\n",
       "  <tbody>\n",
       "    <tr>\n",
       "      <th>0</th>\n",
       "      <td>0</td>\n",
       "    </tr>\n",
       "  </tbody>\n",
       "</table>\n",
       "</div>"
      ],
      "text/plain": [
       "   great_students\n",
       "0               0"
      ]
     },
     "execution_count": 54,
     "metadata": {},
     "output_type": "execute_result"
    }
   ],
   "source": [
    "# Создаю нужный запрос, db автоматически заменится на значение из database:\n",
    "\n",
    "q1 = '''\n",
    "     SELECT \n",
    "        COUNT(*) AS great_students\n",
    "    FROM \n",
    "        (\n",
    "        SELECT \n",
    "            st_id AS id              \n",
    "        FROM {db}.peas\n",
    "        WHERE  \n",
    "            toStartOfMonth(timest) = toStartOfMonth(now())  \n",
    "            AND  correct = 1\n",
    "        GROUP BY  \n",
    "            id \n",
    "        HAVING\n",
    "            SUM(correct) >= 20 \n",
    "        )\n",
    "    '''\n",
    "\n",
    "# Отправляю запрос и записываю результат в датафрейм:\n",
    "\n",
    "q_test = ph.read_clickhouse(query=q1, connection=connection_default)\n",
    "q_test"
   ]
  },
  {
   "cell_type": "markdown",
   "metadata": {},
   "source": [
    "Количество очень усердных студентов равно нулю, т.к. в таблице есть данные только за 30 и 31 октября 2021 года.\n",
    "Приму в данном случае за текущий месяц октябрь 2021 года и скорректирую запрос соответствующим образом:\n"
   ]
  },
  {
   "cell_type": "code",
   "execution_count": 55,
   "metadata": {},
   "outputs": [
    {
     "data": {
      "text/html": [
       "<div>\n",
       "<style scoped>\n",
       "    .dataframe tbody tr th:only-of-type {\n",
       "        vertical-align: middle;\n",
       "    }\n",
       "\n",
       "    .dataframe tbody tr th {\n",
       "        vertical-align: top;\n",
       "    }\n",
       "\n",
       "    .dataframe thead th {\n",
       "        text-align: right;\n",
       "    }\n",
       "</style>\n",
       "<table border=\"1\" class=\"dataframe\">\n",
       "  <thead>\n",
       "    <tr style=\"text-align: right;\">\n",
       "      <th></th>\n",
       "      <th>great_students</th>\n",
       "    </tr>\n",
       "  </thead>\n",
       "  <tbody>\n",
       "    <tr>\n",
       "      <th>0</th>\n",
       "      <td>136</td>\n",
       "    </tr>\n",
       "  </tbody>\n",
       "</table>\n",
       "</div>"
      ],
      "text/plain": [
       "   great_students\n",
       "0             136"
      ]
     },
     "execution_count": 55,
     "metadata": {},
     "output_type": "execute_result"
    }
   ],
   "source": [
    "q1 = '''\n",
    "     SELECT \n",
    "        COUNT(*) AS great_students\n",
    "    FROM \n",
    "        (\n",
    "        SELECT \n",
    "            st_id AS id              \n",
    "        FROM {db}.peas\n",
    "        WHERE  \n",
    "            correct = 1\n",
    "        GROUP BY  \n",
    "            id \n",
    "        HAVING\n",
    "            SUM(correct) >= 20 \n",
    "        )\n",
    "    '''\n",
    "q_test = ph.read_clickhouse(query=q1, connection=connection_default)\n",
    "q_test"
   ]
  },
  {
   "cell_type": "markdown",
   "metadata": {},
   "source": [
    "По результату запроса получаю, что имеется 136 очень усердных студентов."
   ]
  },
  {
   "cell_type": "markdown",
   "metadata": {},
   "source": [
    "### 2.2.2 Задача"
   ]
  },
  {
   "cell_type": "markdown",
   "metadata": {},
   "source": [
    "Для решения задачи я использовала подзапросы и объявляла различные параметры для последующего расчета метрик при помощи WITH, а затем объединяла все по колонке test_grp."
   ]
  },
  {
   "cell_type": "code",
   "execution_count": 56,
   "metadata": {},
   "outputs": [
    {
     "data": {
      "text/html": [
       "<div>\n",
       "<style scoped>\n",
       "    .dataframe tbody tr th:only-of-type {\n",
       "        vertical-align: middle;\n",
       "    }\n",
       "\n",
       "    .dataframe tbody tr th {\n",
       "        vertical-align: top;\n",
       "    }\n",
       "\n",
       "    .dataframe thead th {\n",
       "        text-align: right;\n",
       "    }\n",
       "</style>\n",
       "<table border=\"1\" class=\"dataframe\">\n",
       "  <thead>\n",
       "    <tr style=\"text-align: right;\">\n",
       "      <th></th>\n",
       "      <th>test_group</th>\n",
       "      <th>ARPU</th>\n",
       "      <th>ARPAU</th>\n",
       "      <th>CR</th>\n",
       "      <th>CR_active</th>\n",
       "      <th>CR_active_math</th>\n",
       "    </tr>\n",
       "  </thead>\n",
       "  <tbody>\n",
       "    <tr>\n",
       "      <th>0</th>\n",
       "      <td>pilot</td>\n",
       "      <td>11508.47</td>\n",
       "      <td>29739.58</td>\n",
       "      <td>10.85</td>\n",
       "      <td>26.04</td>\n",
       "      <td>9.52</td>\n",
       "    </tr>\n",
       "    <tr>\n",
       "      <th>1</th>\n",
       "      <td>control</td>\n",
       "      <td>4540.98</td>\n",
       "      <td>10393.70</td>\n",
       "      <td>4.92</td>\n",
       "      <td>11.02</td>\n",
       "      <td>6.12</td>\n",
       "    </tr>\n",
       "  </tbody>\n",
       "</table>\n",
       "</div>"
      ],
      "text/plain": [
       "  test_group      ARPU     ARPAU     CR  CR_active  CR_active_math\n",
       "0      pilot  11508.47  29739.58  10.85      26.04            9.52\n",
       "1    control   4540.98  10393.70   4.92      11.02            6.12"
      ]
     },
     "execution_count": 56,
     "metadata": {},
     "output_type": "execute_result"
    }
   ],
   "source": [
    "# Создаю нужный запрос:\n",
    "\n",
    "q2 = '''\n",
    "WITH\n",
    "-- Число пользователей по группам:\n",
    "    all_students AS \n",
    "        (SELECT \n",
    "            studs.test_grp AS test_group,\n",
    "            uniqExact(studs.st_id) AS all_students\n",
    "        FROM\n",
    "            {db}.peas \n",
    "        RIGHT JOIN\n",
    "            {db}.studs \n",
    "        ON\n",
    "            studs.st_id = peas.st_id\n",
    "        GROUP BY\n",
    "            test_group\n",
    "        ),\n",
    " -- Число активных пользователей по группам:\n",
    "    active_students AS \n",
    "        (SELECT \n",
    "            studs.test_grp AS test_group,\n",
    "            uniqExact(peas.st_id) AS active_students\n",
    "        FROM\n",
    "            (SELECT\n",
    "                peas.st_id AS st_id,\n",
    "                sum(peas.correct) AS correct\n",
    "            FROM\n",
    "                {db}.peas \n",
    "            GROUP BY\n",
    "                st_id\n",
    "            HAVING\n",
    "                correct > 10\n",
    "            ) AS peas \n",
    "        JOIN\n",
    "            {db}.studs \n",
    "        ON\n",
    "            studs.st_id = peas.st_id\n",
    "        GROUP BY\n",
    "            test_group\n",
    "        ),       \n",
    "-- Общий доход от платящих пользователей и количество платящих пользователей по группам:     \n",
    "    revenue AS \n",
    "        (SELECT\n",
    "            studs.test_grp AS test_group,\n",
    "            SUM(final_project_check.money) AS all_revenue,\n",
    "            uniqExact(final_project_check.st_id) AS paying_students\n",
    "        FROM\n",
    "            {db}.studs \n",
    "        RIGHT JOIN\n",
    "            {db}.final_project_check\n",
    "        ON\n",
    "            studs.st_id = final_project_check.st_id\n",
    "        GROUP BY\n",
    "            test_group\n",
    "        ),\n",
    "-- Общий доход от активных пользователей и количество активных платящих пользователей по группам:\n",
    "    active_revenue AS \n",
    "        (SELECT \n",
    "            final_project_check_studs.test_group AS test_group,\n",
    "            SUM(final_project_check_studs.money) AS active_revenue,\n",
    "            uniqExact(final_project_check_studs.st_id) AS active_paying_students\n",
    "        FROM\n",
    "            (SELECT \n",
    "                studs.test_grp AS test_group,\n",
    "                final_project_check.st_id AS st_id,\n",
    "                final_project_check.money AS money\n",
    "            FROM\n",
    "                {db}.final_project_check\n",
    "            JOIN\n",
    "                {db}.studs\n",
    "            ON\n",
    "                studs.st_id = final_project_check.st_id    \n",
    "            GROUP BY\n",
    "                test_group,\n",
    "                st_id,\n",
    "                money\n",
    "            ) AS final_project_check_studs\n",
    "            JOIN\n",
    "                (SELECT\n",
    "                    peas.st_id AS st_id,\n",
    "                    sum(peas.correct) AS correct\n",
    "                FROM \n",
    "                    {db}.peas\n",
    "                GROUP BY\n",
    "                    st_id\n",
    "                HAVING\n",
    "                    correct > 10\n",
    "                ) AS peas \n",
    "            ON \n",
    "                peas.st_id = final_project_check_studs.st_id \n",
    "            GROUP BY\n",
    "                test_group\n",
    "        ),\n",
    "-- Число активных пользователей по математике по группам:    \n",
    "    active_math_students AS \n",
    "        (SELECT\n",
    "            studs.test_grp AS test_group,\n",
    "            uniqExact(peas.st_id) AS active_math_students\n",
    "        FROM\n",
    "        (SELECT\n",
    "            peas.st_id AS st_id,\n",
    "            sum(peas.correct) AS correct\n",
    "        FROM \n",
    "            {db}.peas\n",
    "        WHERE\n",
    "            peas.subject = 'Math'\n",
    "        GROUP BY\n",
    "            st_id\n",
    "        HAVING\n",
    "            correct >= 2\n",
    "        ) AS peas \n",
    "        JOIN\n",
    "            {db}.studs \n",
    "        ON\n",
    "            peas.st_id = studs.st_id\n",
    "        GROUP BY\n",
    "            test_group\n",
    "        ),\n",
    "-- Число активных пользователей по математике, купивших курс по математике, по группам:     \n",
    "    paying_active_math_students AS \n",
    "    (SELECT\n",
    "        final_project_check_studs.test_group AS test_group,\n",
    "        uniqExact(final_project_check_studs.st_id) AS paying_active_math_students\n",
    "    FROM\n",
    "        (SELECT\n",
    "            peas.st_id AS st_id,\n",
    "            sum(peas.correct) AS correct\n",
    "        FROM \n",
    "                {db}.peas\n",
    "        WHERE\n",
    "            peas.subject = 'Math'\n",
    "        GROUP BY\n",
    "            st_id\n",
    "        HAVING\n",
    "            correct >= 2\n",
    "        ) AS peas \n",
    "    JOIN\n",
    "        (SELECT\n",
    "            studs.test_grp AS test_group,\n",
    "            final_project_check.st_id AS st_id\n",
    "        FROM\n",
    "            {db}.final_project_check\n",
    "        JOIN\n",
    "            {db}.studs\n",
    "        ON\n",
    "            final_project_check.st_id = studs.st_id\n",
    "        WHERE\n",
    "            final_project_check.subject = 'Math'\n",
    "        GROUP BY\n",
    "            test_group,\n",
    "            st_id\n",
    "        ) AS final_project_check_studs\n",
    "    ON\n",
    "        peas.st_id = final_project_check_studs.st_id\n",
    "    GROUP BY\n",
    "        test_group\n",
    "    )\n",
    "SELECT\n",
    "    all_students.test_group AS test_group,\n",
    "    ROUND((revenue.all_revenue / all_students.all_students), 2) AS ARPU,\n",
    "    ROUND((active_revenue.active_revenue / active_students.active_students), 2) AS ARPAU,\n",
    "    ROUND((revenue.paying_students * 100 / all_students.all_students), 2) AS CR,\n",
    "    ROUND((active_revenue.active_paying_students * 100 / active_students.active_students), 2) AS CR_active,\n",
    "    ROUND((paying_active_math_students.paying_active_math_students * 100 / active_math_students.active_math_students), 2) AS CR_active_math\n",
    "FROM\n",
    "    all_students\n",
    "JOIN\n",
    "    active_students\n",
    "ON\n",
    "    all_students.test_group = active_students.test_group\n",
    "JOIN\n",
    "    revenue\n",
    "ON\n",
    "    all_students.test_group = revenue.test_group\n",
    "JOIN\n",
    "    active_revenue\n",
    "ON\n",
    "    all_students.test_group = active_revenue.test_group\n",
    "JOIN\n",
    "    active_math_students\n",
    "ON\n",
    "    all_students.test_group = active_math_students.test_group\n",
    "JOIN\n",
    "    paying_active_math_students\n",
    "ON\n",
    "    all_students.test_group = paying_active_math_students.test_group\n",
    "GROUP BY\n",
    "    test_group,\n",
    "    ARPU,\n",
    "    ARPAU,\n",
    "    CR,\n",
    "    CR_active,\n",
    "    CR_active_math\n",
    "    '''\n",
    "\n",
    "# Отправляю запрос и записываю результат в датафрейм:\n",
    "\n",
    "q_test = ph.read_clickhouse(query=q2, connection=connection_default)\n",
    "q_test"
   ]
  },
  {
   "cell_type": "markdown",
   "metadata": {},
   "source": [
    "## Задание 3. Python"
   ]
  },
  {
   "cell_type": "markdown",
   "metadata": {},
   "source": [
    "### 3.1 Задача"
   ]
  },
  {
   "cell_type": "markdown",
   "metadata": {},
   "source": [
    "Реализуйте функцию, которая будет автоматически подгружать информацию из дополнительного файла groups_add.csv (заголовки могут отличаться) и на основании дополнительных параметров пересчитывать метрики.\n",
    "Реализуйте функцию, которая будет строить графики по получаемым метрикам."
   ]
  },
  {
   "cell_type": "markdown",
   "metadata": {},
   "source": [
    "Предварительно создам функцию бутстрапа без вывода визуализаций и тайминга выполнения функции:"
   ]
  },
  {
   "cell_type": "code",
   "execution_count": 57,
   "metadata": {},
   "outputs": [],
   "source": [
    "def get_bootstrap_without_visualisation(\n",
    "    data_column_1, # числовые значения первой выборки\n",
    "    data_column_2, # числовые значения второй выборки\n",
    "    boot_it = 1000, # количество бутстрэп-подвыборок\n",
    "    statistic = np.mean, # интересующая нас статистика\n",
    "    bootstrap_conf_level = 0.95 # уровень значимости\n",
    "):\n",
    "    boot_data = []\n",
    "    for i in range(boot_it): # извлекаем подвыборки\n",
    "        samples_1 = data_column_1.sample(\n",
    "            len(data_column_1), \n",
    "            replace = True # параметр возвращения\n",
    "        ).values\n",
    "        \n",
    "        samples_2 = data_column_2.sample(\n",
    "            len(data_column_1), \n",
    "            replace = True\n",
    "        ).values\n",
    "        \n",
    "        boot_data.append(statistic(samples_1)-statistic(samples_2)) # mean() - применяем статистику\n",
    "        \n",
    "    pd_boot_data = pd.DataFrame(boot_data)\n",
    "        \n",
    "    left_quant = (1 - bootstrap_conf_level)/2\n",
    "    right_quant = 1 - (1 - bootstrap_conf_level) / 2\n",
    "    quants = pd_boot_data.quantile([left_quant, right_quant])\n",
    "        \n",
    "    p_1 = norm.cdf(\n",
    "        x = 0, \n",
    "        loc = np.mean(boot_data), \n",
    "        scale = np.std(boot_data)\n",
    "    )\n",
    "    p_2 = norm.cdf(\n",
    "        x = 0, \n",
    "        loc = -np.mean(boot_data), \n",
    "        scale = np.std(boot_data)\n",
    "    )\n",
    "    p_value = min(p_1, p_2) * 2\n",
    "              \n",
    "    return {\"boot_data\": boot_data, \n",
    "            \"quants\": quants, \n",
    "            \"p_value\": p_value}"
   ]
  },
  {
   "cell_type": "markdown",
   "metadata": {},
   "source": [
    "Создам функцию, которая будет принимать на вход все основные датафреймы и датафрейм с дополнительными данными groups_add (файлы с расширением csv) и возвращать датафрейм с метриками из первого задания:"
   ]
  },
  {
   "cell_type": "code",
   "execution_count": 58,
   "metadata": {},
   "outputs": [],
   "source": [
    "def metrics_with_additional_data(groups, active_studs, checks, groups_add):\n",
    "    \n",
    "    # Заменяю названия колонок в датафрейме с дополнительными данными (на случай несовпадения):        \n",
    "    groups_add = groups_add.rename(columns={groups_add.columns[0] : 'id', groups_add.columns[1] : 'grp'})\n",
    "    \n",
    "    # Объединяю данные о принадлежности пользователя к контрольной или экспериментальной группе:\n",
    "    groups_all = groups.append(groups_add, sort=False) \\\n",
    "                       .rename(columns={'id' : 'student_id'})\n",
    "    \n",
    "    # Добавляю метки \"1\", обозначающие посещение сайта (activity) и совершение покупки (payment):\n",
    "    active_studs['activity'] = 1\n",
    "    checks['payment'] = 1\n",
    "    \n",
    "    # Объединяю данные о принадлежности пользователя к группе пользователей с данными об активных пользователях:\n",
    "    active_studs_by_groups = groups_all.merge(active_studs, how='inner', on='student_id')\n",
    "    \n",
    "    # Добавляю данные с информацией об оплатах пользователей:\n",
    "    all_data = active_studs_by_groups.merge(checks, how='left', on='student_id')\n",
    "    all_data.rev = all_data.rev.fillna(0)\n",
    "    all_data.payment = all_data.payment.fillna(0)\n",
    "    \n",
    "    # Создам датафрейм для метрик обеих групп и рассчитаю значения метрик:\n",
    "    metrics = pd.DataFrame()\n",
    "    metrics['studs'] = all_data.query('activity == 1').groupby('grp').agg({'student_id' : 'count'}).student_id\n",
    "    metrics['payments'] = all_data.query('activity == 1 and rev > 0').groupby('grp').agg({'student_id' : 'count'}).student_id\n",
    "    metrics['sums'] = all_data.query('activity == 1').groupby('grp').agg({'rev' : 'sum'}).rev.round(2)\n",
    "    metrics['CR'] = (metrics.payments * 100 / metrics.studs).round(2)\n",
    "    metrics['ARPPU'] = (metrics.sums / metrics.payments).round(2)\n",
    "    metrics['ARPU'] = (metrics.sums / metrics.studs).round(2)\n",
    "    metrics = metrics.reset_index().rename(columns={'index' : 'group'})\n",
    "    \n",
    "    # Для наглядности создам датафрейм с разницей значений метрик и количества пользователей/размера оплат в %:\n",
    "    difference = pd.DataFrame()\n",
    "    diff_studs = round(int(metrics.query('group == \"B\"').studs) * 100 / int(metrics.query('group == \"A\"').studs) - 100, 2)\n",
    "    diff_payments = round(int(metrics.query('group == \"B\"').payments) * 100 / int(metrics.query('group == \"A\"').payments) - 100, 2)\n",
    "    diff_sums = round(float(metrics.query('group == \"B\"').sums) * 100 / float(metrics.query('group == \"A\"').sums) - 100, 2)\n",
    "    diff_CR = round(float(metrics.query('group == \"B\"').CR) * 100 / float(metrics.query('group == \"A\"').CR) - 100, 2)\n",
    "    diff_ARPPU = round(float(metrics.query('group == \"B\"').ARPPU) * 100 / float(metrics.query('group == \"A\"').ARPPU) - 100, 2)\n",
    "    diff_ARPU = round(float(metrics.query('group == \"B\"').ARPU) * 100 / float(metrics.query('group == \"A\"').ARPU) - 100, 2)\n",
    "\n",
    "    row_difference = {'studs, %' : diff_studs, \\\n",
    "                      'payments, %' : diff_payments, \\\n",
    "                      'sums, %' : diff_sums, \\\n",
    "                      'CR, %' : diff_CR, \\\n",
    "                      'ARPPU, %' : diff_ARPPU, \\\n",
    "                      'ARPU, %' : diff_ARPU}\n",
    "    difference = difference.append(row_difference, ignore_index=True)\n",
    "    \n",
    "    # Проверка изменения метрик на статистическую значимость:    \n",
    "    \n",
    "    # Проверяю конверсию по критерию Хи-квадрат:\n",
    "    from scipy.stats import chi2_contingency, chi2 \n",
    "    stat, p, dof, expected = chi2_contingency(pd.crosstab(all_data.payment, all_data.grp))\n",
    "    stat, p    \n",
    "    # Проверяю ARPPU при помощи бутстрапа:\n",
    "    all_data_control_ARPPU = all_data.query('grp == \"A\" and rev > 0')\n",
    "    all_data_test_ARPPU = all_data.query('grp == \"B\" and rev > 0')\n",
    "    booted_data_ARPPU = get_bootstrap_without_visualisation(all_data_test_ARPPU.rev, all_data_control_ARPPU.rev)        \n",
    "    # Проверяю ARPU при помощи бутстрапа:\n",
    "    all_data_control_ARPU = all_data.query('grp == \"A\"')\n",
    "    all_data_test_ARPU = all_data.query('grp == \"B\"')\n",
    "    booted_data_ARPU = get_bootstrap_without_visualisation(all_data_test_ARPU.rev, all_data_control_ARPU.rev)\n",
    "    \n",
    "    # Составляю функцию для вывода результата о статистической значимости:\n",
    "    def p_bool(x):\n",
    "        if x < 0.05:\n",
    "            return True\n",
    "        else: \n",
    "            return False\n",
    "    \n",
    "    # Для наглядности создам датафрейм с результатами проверки изменения метрик на статистическую значимость:\n",
    "    stat_significance = pd.DataFrame()\n",
    "    row_stat_significance = {'p_CR' : p, \\\n",
    "                             'p_ARPPU' : booted_data_ARPPU[\"p_value\"], \\\n",
    "                             'p_ARPU' : booted_data_ARPU[\"p_value\"]}\n",
    "    stat_significance =  stat_significance.append(row_stat_significance, ignore_index=True)\n",
    "    stat_significance['stat_significant_ARPPU'] = stat_significance.p_ARPPU.apply(lambda x: p_bool(x))\n",
    "    stat_significance['stat_significant_ARPU'] = stat_significance.p_ARPU.apply(lambda x: p_bool(x))\n",
    "    stat_significance['stat_significant_CR'] = stat_significance.p_CR.apply(lambda x: p_bool(x))\n",
    "    \n",
    "    return {'metrics' : metrics,\n",
    "            'difference, %' : difference,\n",
    "            'p' : stat_significance}\n",
    "     "
   ]
  },
  {
   "cell_type": "markdown",
   "metadata": {},
   "source": [
    "Проверяю работу функции на всех основных датафреймах из первого задания, включая датафрейм с дополнительными данными groups_add: "
   ]
  },
  {
   "cell_type": "code",
   "execution_count": 59,
   "metadata": {},
   "outputs": [],
   "source": [
    "groups = pd.read_csv('/mnt/HC_Volume_18315164/home-jupyter/jupyter-pa-kurak/Проект_2_groups.csv', sep=';')\n",
    "active_studs = pd.read_csv('/mnt/HC_Volume_18315164/home-jupyter/jupyter-pa-kurak/Проект_2_active_studs.csv', sep=';')\n",
    "checks = pd.read_csv('/mnt/HC_Volume_18315164/home-jupyter/jupyter-pa-kurak/Проект_2_checks.csv', sep=';')\n",
    "groups_add = pd.read_csv('/mnt/HC_Volume_18315164/home-jupyter/jupyter-pa-kurak/Проект_2_group_add.csv', sep=',')"
   ]
  },
  {
   "cell_type": "code",
   "execution_count": 60,
   "metadata": {},
   "outputs": [
    {
     "data": {
      "text/html": [
       "<div>\n",
       "<style scoped>\n",
       "    .dataframe tbody tr th:only-of-type {\n",
       "        vertical-align: middle;\n",
       "    }\n",
       "\n",
       "    .dataframe tbody tr th {\n",
       "        vertical-align: top;\n",
       "    }\n",
       "\n",
       "    .dataframe thead th {\n",
       "        text-align: right;\n",
       "    }\n",
       "</style>\n",
       "<table border=\"1\" class=\"dataframe\">\n",
       "  <thead>\n",
       "    <tr style=\"text-align: right;\">\n",
       "      <th></th>\n",
       "      <th>group</th>\n",
       "      <th>studs</th>\n",
       "      <th>payments</th>\n",
       "      <th>sums</th>\n",
       "      <th>CR</th>\n",
       "      <th>ARPPU</th>\n",
       "      <th>ARPU</th>\n",
       "    </tr>\n",
       "  </thead>\n",
       "  <tbody>\n",
       "    <tr>\n",
       "      <th>0</th>\n",
       "      <td>A</td>\n",
       "      <td>1538</td>\n",
       "      <td>78</td>\n",
       "      <td>72820.0</td>\n",
       "      <td>5.07</td>\n",
       "      <td>933.59</td>\n",
       "      <td>47.35</td>\n",
       "    </tr>\n",
       "    <tr>\n",
       "      <th>1</th>\n",
       "      <td>B</td>\n",
       "      <td>6803</td>\n",
       "      <td>314</td>\n",
       "      <td>394974.0</td>\n",
       "      <td>4.62</td>\n",
       "      <td>1257.88</td>\n",
       "      <td>58.06</td>\n",
       "    </tr>\n",
       "  </tbody>\n",
       "</table>\n",
       "</div>"
      ],
      "text/plain": [
       "  group  studs  payments      sums    CR    ARPPU   ARPU\n",
       "0     A   1538        78   72820.0  5.07   933.59  47.35\n",
       "1     B   6803       314  394974.0  4.62  1257.88  58.06"
      ]
     },
     "execution_count": 60,
     "metadata": {},
     "output_type": "execute_result"
    }
   ],
   "source": [
    "metrics_with_additional_data(groups, active_studs, checks, groups_add)['metrics']"
   ]
  },
  {
   "cell_type": "code",
   "execution_count": 61,
   "metadata": {},
   "outputs": [
    {
     "data": {
      "text/html": [
       "<div>\n",
       "<style scoped>\n",
       "    .dataframe tbody tr th:only-of-type {\n",
       "        vertical-align: middle;\n",
       "    }\n",
       "\n",
       "    .dataframe tbody tr th {\n",
       "        vertical-align: top;\n",
       "    }\n",
       "\n",
       "    .dataframe thead th {\n",
       "        text-align: right;\n",
       "    }\n",
       "</style>\n",
       "<table border=\"1\" class=\"dataframe\">\n",
       "  <thead>\n",
       "    <tr style=\"text-align: right;\">\n",
       "      <th></th>\n",
       "      <th>ARPPU, %</th>\n",
       "      <th>ARPU, %</th>\n",
       "      <th>CR, %</th>\n",
       "      <th>payments, %</th>\n",
       "      <th>studs, %</th>\n",
       "      <th>sums, %</th>\n",
       "    </tr>\n",
       "  </thead>\n",
       "  <tbody>\n",
       "    <tr>\n",
       "      <th>0</th>\n",
       "      <td>34.74</td>\n",
       "      <td>22.62</td>\n",
       "      <td>-8.88</td>\n",
       "      <td>302.56</td>\n",
       "      <td>342.33</td>\n",
       "      <td>442.4</td>\n",
       "    </tr>\n",
       "  </tbody>\n",
       "</table>\n",
       "</div>"
      ],
      "text/plain": [
       "   ARPPU, %  ARPU, %  CR, %  payments, %  studs, %  sums, %\n",
       "0     34.74    22.62  -8.88       302.56    342.33    442.4"
      ]
     },
     "execution_count": 61,
     "metadata": {},
     "output_type": "execute_result"
    }
   ],
   "source": [
    "metrics_with_additional_data(groups, active_studs, checks, groups_add)['difference, %']"
   ]
  },
  {
   "cell_type": "code",
   "execution_count": 62,
   "metadata": {},
   "outputs": [
    {
     "data": {
      "text/html": [
       "<div>\n",
       "<style scoped>\n",
       "    .dataframe tbody tr th:only-of-type {\n",
       "        vertical-align: middle;\n",
       "    }\n",
       "\n",
       "    .dataframe tbody tr th {\n",
       "        vertical-align: top;\n",
       "    }\n",
       "\n",
       "    .dataframe thead th {\n",
       "        text-align: right;\n",
       "    }\n",
       "</style>\n",
       "<table border=\"1\" class=\"dataframe\">\n",
       "  <thead>\n",
       "    <tr style=\"text-align: right;\">\n",
       "      <th></th>\n",
       "      <th>p_ARPPU</th>\n",
       "      <th>p_ARPU</th>\n",
       "      <th>p_CR</th>\n",
       "      <th>stat_significant_ARPPU</th>\n",
       "      <th>stat_significant_ARPU</th>\n",
       "      <th>stat_significant_CR</th>\n",
       "    </tr>\n",
       "  </thead>\n",
       "  <tbody>\n",
       "    <tr>\n",
       "      <th>0</th>\n",
       "      <td>0.000001</td>\n",
       "      <td>0.038389</td>\n",
       "      <td>0.486252</td>\n",
       "      <td>True</td>\n",
       "      <td>True</td>\n",
       "      <td>False</td>\n",
       "    </tr>\n",
       "  </tbody>\n",
       "</table>\n",
       "</div>"
      ],
      "text/plain": [
       "    p_ARPPU    p_ARPU      p_CR  stat_significant_ARPPU  \\\n",
       "0  0.000001  0.038389  0.486252                    True   \n",
       "\n",
       "   stat_significant_ARPU  stat_significant_CR  \n",
       "0                   True                False  "
      ]
     },
     "execution_count": 62,
     "metadata": {},
     "output_type": "execute_result"
    }
   ],
   "source": [
    "metrics_with_additional_data(groups, active_studs, checks, groups_add)['p']"
   ]
  },
  {
   "cell_type": "markdown",
   "metadata": {},
   "source": [
    "Создам функцию, которая будет принимать на вход датафрейм с рассчитанными метриками metrics_with_additional_data()['metrics']  и строить графики по получаемым метрикам:"
   ]
  },
  {
   "cell_type": "code",
   "execution_count": 65,
   "metadata": {},
   "outputs": [],
   "source": [
    "def visualisation_metrics_with_additional_data(df):\n",
    " \n",
    "    sns.set(\n",
    "            font_scale=1,\n",
    "            style=\"whitegrid\"\n",
    "            )\n",
    "    fig, axes = plt.subplots(nrows=1, ncols=3, figsize=(20, 6), sharey='col', sharex=True)\n",
    "    \n",
    "    sns.barplot(x=\"group\", y=\"CR\", data=df, ax=axes[0], palette='rocket').set_title('CR')\n",
    "    sns.barplot(x=\"group\", y=\"ARPPU\", data=df, ax=axes[1], palette='rocket').set_title('ARPPU')\n",
    "    sns.barplot(x=\"group\", y=\"ARPU\", data=df, ax=axes[2], palette='rocket').set_title('ARPU')"
   ]
  },
  {
   "cell_type": "code",
   "execution_count": 66,
   "metadata": {
    "scrolled": true
   },
   "outputs": [
    {
     "data": {
      "image/png": "[encoded data removed]",
      "text/plain": [
       "<Figure size 1440x432 with 3 Axes>"
      ]
     },
     "metadata": {},
     "output_type": "display_data"
    }
   ],
   "source": [
    "visualisation_metrics_with_additional_data(metrics_with_additional_data(groups, active_studs, checks, groups_add)['metrics'])"
   ]
  },
  {
   "cell_type": "code",
   "execution_count": null,
   "metadata": {},
   "outputs": [],
   "source": []
  }
 ],
 "metadata": {
  "kernelspec": {
   "display_name": "Python 3",
   "language": "python",
   "name": "python3"
  },
  "language_info": {
   "codemirror_mode": {
    "name": "ipython",
    "version": 3
   },
   "file_extension": ".py",
   "mimetype": "text/x-python",
   "name": "python",
   "nbconvert_exporter": "python",
   "pygments_lexer": "ipython3",
   "version": "3.7.3"
  }
 },
 "nbformat": 4,
 "nbformat_minor": 4
}
